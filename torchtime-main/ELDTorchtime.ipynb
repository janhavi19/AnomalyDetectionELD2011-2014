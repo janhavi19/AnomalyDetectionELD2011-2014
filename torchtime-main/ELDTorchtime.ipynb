{
 "cells": [
  {
   "cell_type": "code",
   "execution_count": 1,
   "metadata": {
    "jupyter": {
     "outputs_hidden": false
    },
    "pycharm": {
     "name": "#%%\n"
    }
   },
   "outputs": [],
   "source": [
    "import csv\n",
    "import os\n",
    "from typing import Optional, Any\n",
    "\n",
    "import pandas as pd\n",
    "import torch\n",
    "from pytorch_lightning import Trainer\n",
    "from pytorch_lightning.callbacks import ModelCheckpoint, EarlyStopping, LearningRateMonitor\n",
    "from pytorch_lightning.utilities.types import TRAIN_DATALOADERS, EVAL_DATALOADERS, STEP_OUTPUT, EPOCH_OUTPUT\n",
    "from torch import nn\n",
    "from torch.utils.data import DataLoader\n",
    "from torchmetrics import Accuracy, Precision, Recall\n",
    "from torchtime.datasets import PandasDataset\n",
    "from torchtime.models import InceptionTime\n",
    "import pytorch_lightning as pl\n",
    "import pytorch_lightning.loggers as pl_loggers\n",
    "import numpy as np\n",
    "from torchtime.transforms import ToTensor, Compose, LabelEncoder, NaN2Value"
   ]
  },
  {
   "cell_type": "markdown",
   "metadata": {},
   "source": [
    "### Dataloading"
   ]
  },
  {
   "cell_type": "code",
   "execution_count": 2,
   "metadata": {
    "jupyter": {
     "outputs_hidden": false
    },
    "pycharm": {
     "name": "#%%\n"
    }
   },
   "outputs": [],
   "source": [
    "df = pd.read_pickle(\"./eld_filtered_labled.pkl\")\n",
    "\n",
    "\n",
    "df['Consumption'] = df['Consumption'].map({0: 'low', 1: 'high'})\n",
    "df = df.drop('day_of_week',axis=1)\n"
   ]
  },
  {
   "cell_type": "code",
   "execution_count": 3,
   "metadata": {},
   "outputs": [
    {
     "data": {
      "text/plain": [
       "dtype('O')"
      ]
     },
     "execution_count": 3,
     "metadata": {},
     "output_type": "execute_result"
    }
   ],
   "source": [
    "df.Consumption.dtype"
   ]
  },
  {
   "cell_type": "code",
   "execution_count": 4,
   "metadata": {
    "jupyter": {
     "outputs_hidden": false
    },
    "pycharm": {
     "name": "#%%\n"
    }
   },
   "outputs": [
    {
     "name": "stdout",
     "output_type": "stream",
     "text": [
      "None\n"
     ]
    }
   ],
   "source": [
    "dataset = PandasDataset(dataframe=df, labels=\"Consumption\",\n",
    "                                 target_transform=Compose([LabelEncoder(['low','high'])]))\n",
    "print(dataset.dimensions)"
   ]
  },
  {
   "cell_type": "code",
   "execution_count": 5,
   "metadata": {},
   "outputs": [
    {
     "name": "stdout",
     "output_type": "stream",
     "text": [
      "<torch.utils.data.dataset.Subset object at 0x00000210221A2D30>\n"
     ]
    }
   ],
   "source": [
    "train_size = int(0.8 * len(dataset))\n",
    "test_size = len(dataset) - train_size\n",
    "train_dataset, test_dataset = torch.utils.data.random_split(dataset, [train_size, test_size])\n",
    "print(test_dataset)"
   ]
  },
  {
   "cell_type": "markdown",
   "metadata": {},
   "source": [
    "### Modified Inception module to fit the data"
   ]
  },
  {
   "cell_type": "code",
   "execution_count": 6,
   "metadata": {
    "jupyter": {
     "outputs_hidden": false
    },
    "pycharm": {
     "name": "#%%\n"
    }
   },
   "outputs": [],
   "source": [
    "class InceptionTimeModule(pl.LightningModule):\n",
    "\n",
    "    def __init__(self, df, num_workers: int = 8,\n",
    "                 n_inputs: Optional[int] = None, n_classes: Optional[int] = None, use_residual=True,\n",
    "                 use_bottleneck=True, depth=6, n_convolutions: int = 3, n_filters: int = 32, kernel_size=40,\n",
    "                 learning_rate: int = 0.001, batch_size: int = 64, activation: str = 'linear', *args: Any, **kwargs: Any):\n",
    "        super(InceptionTimeModule, self).__init__(*args, **kwargs)\n",
    "        self.df = df\n",
    "        self.num_workers = num_workers\n",
    "        # self.generator = torch.Generator().manual_seed(42)\n",
    "\n",
    "        # self.n_inputs = n_inputs\n",
    "        self.use_residual = use_residual\n",
    "        self.use_bottleneck = use_bottleneck\n",
    "        self.depth = depth\n",
    "        self.n_convolutions = n_convolutions\n",
    "        self.n_filters = n_filters\n",
    "        self.kernel_size = kernel_size\n",
    "        self.activation = activation\n",
    "\n",
    "        self.learning_rate = learning_rate\n",
    "        self.batch_size = batch_size\n",
    "        self.ce_loss = nn.CrossEntropyLoss()\n",
    "\n",
    "        self.train_acc = Accuracy(task=\"multiclass\",num_classes=2)\n",
    "        self.valid_acc = Accuracy(task=\"multiclass\",num_classes=2)\n",
    "        self.test_acc = Accuracy(task=\"multiclass\",num_classes=2)\n",
    "        self.test_precision = Precision(task=\"multiclass\",num_classes=2)\n",
    "        self.test_recall = Recall(task=\"multiclass\",num_classes=2)\n",
    "\n",
    "    @property\n",
    "    def dims(self):\n",
    "        return self.dataset.dim\n",
    "\n",
    "    @property\n",
    "    def n_classes(self):\n",
    "        return len(self.dataset.classes)\n",
    "#defining model parameters\n",
    "    def configure_optimizers(self):\n",
    "        optimizer = torch.optim.Adam(self.parameters(), lr=self.learning_rate, betas=(0.9, 0.999), eps=1e-07,\n",
    "                                     amsgrad=False)\n",
    "        lr_scheduler = {\"scheduler\": torch.optim.lr_scheduler.ReduceLROnPlateau(optimizer, factor=0.5, patience=50,\n",
    "                                                                                min_lr=0.0001, mode='min'),\n",
    "                        \"monitor\": \"train_loss\"}\n",
    "        return {\"optimizer\": optimizer, \"lr_scheduler\": lr_scheduler}\n",
    "#loading data using pandas module of library\n",
    "    def setup(self, stage: Optional[str] = None) -> None:\n",
    "        self.dataset = PandasDataset(dataframe=self.df,dimensions=list(self.df.columns)[:-1] ,labels=\"Consumption\",\n",
    "                                 transform=Compose([ToTensor(), NaN2Value()]),target_transform=Compose([LabelEncoder(['low','high'])]))\n",
    "        train_size = int(0.8 * len(self.dataset))\n",
    "        test_size = len(self.dataset) - train_size\n",
    "        self.train_dataset, self.test_dataset = torch.utils.data.random_split(self.dataset, [train_size, test_size])\n",
    "\n",
    "        self.model = InceptionTime(self.dims, self.n_classes, self.use_residual, self.use_bottleneck, self.depth,\n",
    "                                   self.n_convolutions, self.n_filters, self.kernel_size, activation=self.activation)\n",
    "    #data loader definations\n",
    "\n",
    "    def train_dataloader(self) -> TRAIN_DATALOADERS:\n",
    "        return DataLoader(self.train_dataset, shuffle=True, batch_size=self.batch_size, num_workers=self.num_workers,\n",
    "                          pin_memory=True, persistent_workers=True)\n",
    "\n",
    "    def val_dataloader(self) -> EVAL_DATALOADERS:\n",
    "        return DataLoader(self.test_dataset, shuffle=False, batch_size=self.batch_size, num_workers=self.num_workers,\n",
    "                          pin_memory=True, persistent_workers=True)\n",
    "\n",
    "    def test_dataloader(self) -> EVAL_DATALOADERS:\n",
    "        return DataLoader(self.test_dataset, shuffle=False, batch_size=self.batch_size, num_workers=self.num_workers,\n",
    "                          pin_memory=True)\n",
    "#defining the steps of training,validation and testing for the module\n",
    "    def training_step(self, batch, batch_idx) -> STEP_OUTPUT:\n",
    "        x, targets = batch\n",
    "        if torch.any(torch.isnan(x)):\n",
    "            print(\"NaN\")\n",
    "        preds = self.model(x)\n",
    "        loss = self.ce_loss(preds, targets)\n",
    "        self.log(\"train_loss\", loss)\n",
    "        self.train_acc(preds, targets)\n",
    "        self.log(\"train_acc\", self.train_acc)\n",
    "        return loss\n",
    "\n",
    "    def validation_step(self, batch, batch_idx) -> Optional[STEP_OUTPUT]:\n",
    "        x, targets = batch\n",
    "        preds = self.model(x)\n",
    "        loss = self.ce_loss(preds, targets)\n",
    "        self.log(\"val_loss\", loss)\n",
    "        self.valid_acc(preds, targets)\n",
    "        # self.precision(preds, targets)\n",
    "        # self.recall(preds, targets)\n",
    "        self.log(\"val_acc\", self.valid_acc)\n",
    "        # self.log(\"val_precision\", self.precision)\n",
    "        # self.log(\"val_recall\", self.recall)\n",
    "        return loss\n",
    "\n",
    "    def test_step(self, batch, batchidx) -> Optional[STEP_OUTPUT]:\n",
    "        x, targets = batch\n",
    "        preds = self.model(x)\n",
    "        loss = self.ce_loss(preds, targets)\n",
    "        self.test_acc(preds, targets)\n",
    "        self.test_precision(preds, targets)\n",
    "        self.test_recall(preds, targets)\n",
    "        self.log(\"test_loss\", loss)\n",
    "        self.log(\"test_acc\", self.test_acc)\n",
    "        return loss\n",
    "\n",
    "    def test_epoch_end(self, outputs: EPOCH_OUTPUT) -> None:\n",
    "        epoch_loss = torch.mean(torch.stack(outputs))\n",
    "        print(epoch_loss.item(), self.test_acc.compute().item(), self.test_precision.compute().item(), self.test_recall.compute().item())"
   ]
  },
  {
   "cell_type": "markdown",
   "metadata": {},
   "source": [
    "### Training"
   ]
  },
  {
   "cell_type": "code",
   "execution_count": 7,
   "metadata": {
    "jupyter": {
     "outputs_hidden": false
    },
    "pycharm": {
     "name": "#%%\n"
    },
    "scrolled": true
   },
   "outputs": [
    {
     "name": "stderr",
     "output_type": "stream",
     "text": [
      "GPU available: False, used: False\n",
      "TPU available: False, using: 0 TPU cores\n",
      "IPU available: False, using: 0 IPUs\n",
      "HPU available: False, using: 0 HPUs\n"
     ]
    },
    {
     "data": {
      "application/vnd.jupyter.widget-view+json": {
       "model_id": "",
       "version_major": 2,
       "version_minor": 0
      },
      "text/plain": [
       "Sanity Checking: 0it [00:00, ?it/s]"
      ]
     },
     "metadata": {},
     "output_type": "display_data"
    },
    {
     "data": {
      "application/vnd.jupyter.widget-view+json": {
       "model_id": "7c409fc27f4f404eb3b4bc15cecf6028",
       "version_major": 2,
       "version_minor": 0
      },
      "text/plain": [
       "Training: 0it [00:00, ?it/s]"
      ]
     },
     "metadata": {},
     "output_type": "display_data"
    },
    {
     "data": {
      "application/vnd.jupyter.widget-view+json": {
       "model_id": "",
       "version_major": 2,
       "version_minor": 0
      },
      "text/plain": [
       "Validation: 0it [00:00, ?it/s]"
      ]
     },
     "metadata": {},
     "output_type": "display_data"
    },
    {
     "data": {
      "application/vnd.jupyter.widget-view+json": {
       "model_id": "",
       "version_major": 2,
       "version_minor": 0
      },
      "text/plain": [
       "Validation: 0it [00:00, ?it/s]"
      ]
     },
     "metadata": {},
     "output_type": "display_data"
    },
    {
     "name": "stderr",
     "output_type": "stream",
     "text": [
      "`Trainer.fit` stopped: `max_epochs=10` reached.\n"
     ]
    }
   ],
   "source": [
    "import warnings\n",
    "warnings.filterwarnings('ignore')\n",
    "model = InceptionTimeModule(df, num_workers=1)\n",
    "checkpoint_callback = ModelCheckpoint(\n",
    "            monitor=\"val_acc\",\n",
    "            dirpath=f\"./models/\",\n",
    "            filename=f\"inception_time\",# + \"{val_acc:.2f}\",\n",
    "            save_top_k=1,\n",
    "            mode=\"max\",\n",
    "        )\n",
    "early_stopping_callback = EarlyStopping(monitor=\"train_loss\", mode=\"min\", patience=50, min_delta=0.001,\n",
    "                                        check_on_train_epoch_end=True)\n",
    "logger = pl_loggers.TensorBoardLogger(save_dir=f\"lightning_logs/\")\n",
    "lr_monitor = LearningRateMonitor(logging_interval='step')\n",
    "trainer = Trainer(max_epochs=10, log_every_n_steps=1, accelerator=\"cpu\",\n",
    "                  check_val_every_n_epoch=5, enable_progress_bar=True, enable_model_summary=False, callbacks=[lr_monitor, checkpoint_callback,\n",
    "                                                                                                             early_stopping_callback])\n",
    "trainer.fit(model)"
   ]
  },
  {
   "cell_type": "code",
   "execution_count": 8,
   "metadata": {
    "jupyter": {
     "outputs_hidden": false
    },
    "pycharm": {
     "name": "#%%\n"
    },
    "scrolled": true
   },
   "outputs": [
    {
     "name": "stderr",
     "output_type": "stream",
     "text": [
      "Restoring states from the checkpoint path at C:\\Users\\puranik\\Documents\\Projects\\torchtime-main\\models\\inception_time-v3.ckpt\n",
      "Loaded model weights from checkpoint at C:\\Users\\puranik\\Documents\\Projects\\torchtime-main\\models\\inception_time-v3.ckpt\n"
     ]
    },
    {
     "data": {
      "application/vnd.jupyter.widget-view+json": {
       "model_id": "8b0945d257dd4130bafe5ff973e27e58",
       "version_major": 2,
       "version_minor": 0
      },
      "text/plain": [
       "Testing: 0it [00:00, ?it/s]"
      ]
     },
     "metadata": {},
     "output_type": "display_data"
    },
    {
     "name": "stdout",
     "output_type": "stream",
     "text": [
      "0.17559398710727692 0.9338728189468384 0.9338728189468384 0.9338728189468384\n",
      "────────────────────────────────────────────────────────────────────────────────────────────────────────────────────────\r\n",
      "       Test metric             DataLoader 0\r\n",
      "────────────────────────────────────────────────────────────────────────────────────────────────────────────────────────\r\n",
      "        test_acc            0.9338728189468384\r\n",
      "        test_loss           0.17485255002975464\r\n",
      "────────────────────────────────────────────────────────────────────────────────────────────────────────────────────────\n"
     ]
    },
    {
     "data": {
      "text/plain": [
       "[{'test_loss': 0.17485255002975464, 'test_acc': 0.9338728189468384}]"
      ]
     },
     "execution_count": 8,
     "metadata": {},
     "output_type": "execute_result"
    }
   ],
   "source": [
    "trainer.test()"
   ]
  },
  {
   "cell_type": "code",
   "execution_count": null,
   "metadata": {},
   "outputs": [],
   "source": []
  }
 ],
 "metadata": {
  "kernelspec": {
   "display_name": "Python 3 (ipykernel)",
   "language": "python",
   "name": "python3"
  },
  "language_info": {
   "codemirror_mode": {
    "name": "ipython",
    "version": 3
   },
   "file_extension": ".py",
   "mimetype": "text/x-python",
   "name": "python",
   "nbconvert_exporter": "python",
   "pygments_lexer": "ipython3",
   "version": "3.8.16"
  }
 },
 "nbformat": 4,
 "nbformat_minor": 4
}
