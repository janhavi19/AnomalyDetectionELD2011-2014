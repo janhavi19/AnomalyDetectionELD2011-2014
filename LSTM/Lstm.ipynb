{
 "cells": [
  {
   "cell_type": "code",
   "execution_count": 1,
   "metadata": {
    "colab": {
     "base_uri": "https://localhost:8080/"
    },
    "id": "pG38DXL4uEgu",
    "outputId": "4eaa26ca-11e9-4ae8-d412-2394804c7072"
   },
   "outputs": [
    {
     "name": "stdout",
     "output_type": "stream",
     "text": [
      "Mounted at /content/gdrive\n"
     ]
    }
   ],
   "source": [
    "from google.colab import drive\n",
    "drive.mount('/content/gdrive')"
   ]
  },
  {
   "cell_type": "code",
   "execution_count": 2,
   "metadata": {
    "id": "ZqM7GbS9uGOL"
   },
   "outputs": [],
   "source": [
    "\n",
    "import pandas as pd\n",
    "import warnings\n",
    "\n",
    "warnings.filterwarnings('ignore')\n",
    "\n",
    "\n",
    "from sklearn.preprocessing import MinMaxScaler\n",
    "from torch.utils.data import DataLoader, Dataset\n",
    "import numpy as np\n",
    "from keras.models import Sequential\n",
    "from keras.layers import Dense, LSTM\n"
   ]
  },
  {
   "cell_type": "markdown",
   "metadata": {},
   "source": [
    "### Data loading"
   ]
  },
  {
   "cell_type": "code",
   "execution_count": 3,
   "metadata": {
    "id": "MzciPJtTuOav"
   },
   "outputs": [],
   "source": [
    "data = pd.read_pickle('/content/gdrive/MyDrive/eld_filtered_labled.pkl')\n",
    "data = data.drop('day_of_week',axis=1)\n",
    "X = data.drop('Consumption',axis=1) # Features (time series data)\n",
    "y = data['Consumption'] # Labels (0 or 1)"
   ]
  },
  {
   "cell_type": "code",
   "execution_count": 4,
   "metadata": {
    "id": "eh0mH-sst0r1"
   },
   "outputs": [],
   "source": [
    "from sklearn.model_selection import train_test_split\n",
    "\n",
    "X_train, X_test, y_train, y_test = train_test_split(\n",
    "    X, y, test_size=0.3, stratify=y\n",
    ")"
   ]
  },
  {
   "cell_type": "code",
   "execution_count": 5,
   "metadata": {
    "colab": {
     "base_uri": "https://localhost:8080/"
    },
    "id": "Ptu2KPhfinpp",
    "outputId": "99f4a6f1-f394-4144-ac24-dc6b91361cc2"
   },
   "outputs": [
    {
     "name": "stdout",
     "output_type": "stream",
     "text": [
      "(98179, 370)\n"
     ]
    }
   ],
   "source": [
    "print(X_train.shape)"
   ]
  },
  {
   "cell_type": "markdown",
   "metadata": {},
   "source": [
    "### Model defination"
   ]
  },
  {
   "cell_type": "code",
   "execution_count": 6,
   "metadata": {
    "id": "w6AmXNMbhmC4"
   },
   "outputs": [],
   "source": [
    "from keras.models import Sequential\n",
    "from keras.layers import LSTM, Dense\n",
    "from tensorflow.keras.optimizers import Adam\n",
    "\n",
    "X_train = X_train.to_numpy()\n",
    "X_train = np.reshape(X_train, (X_train.shape[0], X_train.shape[1], 1))\n",
    "model = Sequential()\n",
    "model.add(LSTM(128, return_sequences=True, input_shape=(X_train.shape[1], X_train.shape[2])))\n",
    "model.add(LSTM(64, return_sequences=True))\n",
    "model.add(Dense(1, activation='sigmoid'))\n",
    "\n",
    "learning_rate = 0.001\n",
    "optimizer = Adam(learning_rate=learning_rate)\n",
    "\n",
    "model.compile(loss='binary_crossentropy', optimizer='adam', metrics=['accuracy'])\n"
   ]
  },
  {
   "cell_type": "code",
   "execution_count": 7,
   "metadata": {
    "colab": {
     "base_uri": "https://localhost:8080/"
    },
    "id": "CYT3SOHe2US9",
    "outputId": "7c178fb9-73a3-4d1c-da37-e14c66c9f30f"
   },
   "outputs": [
    {
     "name": "stdout",
     "output_type": "stream",
     "text": [
      "Model: \"sequential\"\n",
      "_________________________________________________________________\n",
      " Layer (type)                Output Shape              Param #   \n",
      "=================================================================\n",
      " lstm (LSTM)                 (None, 370, 128)          66560     \n",
      "                                                                 \n",
      " lstm_1 (LSTM)               (None, 370, 64)           49408     \n",
      "                                                                 \n",
      " dense (Dense)               (None, 370, 1)            65        \n",
      "                                                                 \n",
      "=================================================================\n",
      "Total params: 116,033\n",
      "Trainable params: 116,033\n",
      "Non-trainable params: 0\n",
      "_________________________________________________________________\n"
     ]
    }
   ],
   "source": [
    "model.summary()"
   ]
  },
  {
   "cell_type": "markdown",
   "metadata": {},
   "source": [
    "### Training"
   ]
  },
  {
   "cell_type": "code",
   "execution_count": 8,
   "metadata": {
    "colab": {
     "base_uri": "https://localhost:8080/"
    },
    "id": "vgQn3K1PhwQl",
    "outputId": "06644b97-5d97-4272-c3fe-dbcd9a2cb944"
   },
   "outputs": [
    {
     "name": "stdout",
     "output_type": "stream",
     "text": [
      "Epoch 1/10\n",
      "3069/3069 [==============================] - 125s 36ms/step - loss: 0.5422 - accuracy: 0.7429 - val_loss: 0.4798 - val_accuracy: 0.7796\n",
      "Epoch 2/10\n",
      "3069/3069 [==============================] - 99s 32ms/step - loss: 0.4146 - accuracy: 0.8179 - val_loss: 0.3913 - val_accuracy: 0.8299\n",
      "Epoch 3/10\n",
      "3069/3069 [==============================] - 103s 34ms/step - loss: 0.3657 - accuracy: 0.8433 - val_loss: 0.3420 - val_accuracy: 0.8537\n",
      "Epoch 4/10\n",
      "3069/3069 [==============================] - 102s 33ms/step - loss: 0.3271 - accuracy: 0.8617 - val_loss: 0.3257 - val_accuracy: 0.8624\n",
      "Epoch 5/10\n",
      "3069/3069 [==============================] - 107s 35ms/step - loss: 0.2992 - accuracy: 0.8738 - val_loss: 0.3135 - val_accuracy: 0.8649\n",
      "Epoch 6/10\n",
      "3069/3069 [==============================] - 101s 33ms/step - loss: 0.2766 - accuracy: 0.8829 - val_loss: 0.2739 - val_accuracy: 0.8839\n",
      "Epoch 7/10\n",
      "3069/3069 [==============================] - 104s 34ms/step - loss: 0.2574 - accuracy: 0.8910 - val_loss: 0.2524 - val_accuracy: 0.8921\n",
      "Epoch 8/10\n",
      "3069/3069 [==============================] - 103s 34ms/step - loss: 0.2454 - accuracy: 0.8961 - val_loss: 0.2502 - val_accuracy: 0.8933\n",
      "Epoch 9/10\n",
      "3069/3069 [==============================] - 103s 33ms/step - loss: 0.2297 - accuracy: 0.9027 - val_loss: 0.2417 - val_accuracy: 0.8978\n",
      "Epoch 10/10\n",
      "3069/3069 [==============================] - 98s 32ms/step - loss: 0.2190 - accuracy: 0.9066 - val_loss: 0.2319 - val_accuracy: 0.9002\n"
     ]
    }
   ],
   "source": [
    "# Train the model\n",
    "history = model.fit(X_train, y_train, epochs=10, batch_size=32, validation_data=(X_test, y_test))"
   ]
  },
  {
   "cell_type": "code",
   "execution_count": 9,
   "metadata": {
    "colab": {
     "base_uri": "https://localhost:8080/",
     "height": 279
    },
    "id": "vLwPVCcJjYFa",
    "outputId": "21584abd-578c-46f7-c263-01f20684458e"
   },
   "outputs": [
    {
     "data": {
      "image/png": "[encoded data removed]",
      "text/plain": [
       "<Figure size 432x288 with 1 Axes>"
      ]
     },
     "metadata": {
      "needs_background": "light"
     },
     "output_type": "display_data"
    }
   ],
   "source": [
    "import matplotlib.pyplot as plt\n",
    "\n",
    "plt.plot(history.history['loss'])\n",
    "plt.plot(history.history['val_loss'])\n",
    "plt.xlabel('Epochs')\n",
    "plt.ylabel('Loss')\n",
    "plt.legend(['loss', 'val_loss'])\n",
    "plt.show()"
   ]
  },
  {
   "cell_type": "markdown",
   "metadata": {},
   "source": [
    "### Results"
   ]
  },
  {
   "cell_type": "code",
   "execution_count": 10,
   "metadata": {
    "colab": {
     "base_uri": "https://localhost:8080/"
    },
    "id": "oFkGgJztk9S4",
    "outputId": "918214d1-6a9b-4b7f-c2f5-6da7bc23181d"
   },
   "outputs": [
    {
     "name": "stdout",
     "output_type": "stream",
     "text": [
      "1315/1315 [==============================] - 18s 14ms/step - loss: 0.2319 - accuracy: 0.9002\n",
      "Test Loss: 0.232, Test Accuracy: 0.900\n"
     ]
    }
   ],
   "source": [
    "# Evaluate the model\n",
    "loss, accuracy = model.evaluate(X_test, y_test)\n",
    "print(f'Test Loss: {loss:.3f}, Test Accuracy: {accuracy:.3f}')"
   ]
  },
  {
   "cell_type": "code",
   "execution_count": 11,
   "metadata": {
    "colab": {
     "base_uri": "https://localhost:8080/"
    },
    "id": "Ygh3fe9X24VQ",
    "outputId": "686c85b3-276e-4f1b-8170-7510c635e226"
   },
   "outputs": [
    {
     "name": "stdout",
     "output_type": "stream",
     "text": [
      "1315/1315 [==============================] - 17s 12ms/step\n"
     ]
    }
   ],
   "source": [
    "y_pred = model.predict(X_test)"
   ]
  },
  {
   "cell_type": "code",
   "execution_count": 12,
   "metadata": {
    "colab": {
     "base_uri": "https://localhost:8080/"
    },
    "id": "-cnzBqaiB5-y",
    "outputId": "8f3a5b66-3c95-4260-c1f7-8e40adc07461"
   },
   "outputs": [
    {
     "data": {
      "text/plain": [
       "array([0, 1])"
      ]
     },
     "execution_count": 12,
     "metadata": {},
     "output_type": "execute_result"
    }
   ],
   "source": [
    " # Set threshold\n",
    "threshold = 0.5\n",
    "\n",
    "# Convert to binary\n",
    "y_pred_n  = (y_pred>= threshold).astype(int)\n",
    "np.unique(y_pred_n)"
   ]
  },
  {
   "cell_type": "code",
   "execution_count": 13,
   "metadata": {
    "id": "zdhT6_HQ_pF4"
   },
   "outputs": [],
   "source": [
    "\n",
    "y_pred_n = np.argmax(y_pred_n, axis=2).reshape(-1)"
   ]
  },
  {
   "cell_type": "code",
   "execution_count": 14,
   "metadata": {
    "colab": {
     "base_uri": "https://localhost:8080/"
    },
    "id": "gplCDShEBXPR",
    "outputId": "078c3cc7-bfce-4b64-a9ff-d5523acbe771"
   },
   "outputs": [
    {
     "data": {
      "text/plain": [
       "array([2.2714054e-05, 2.2791257e-05, 2.3290129e-05, ..., 9.9973708e-01,\n",
       "       9.9974209e-01, 9.9975187e-01], dtype=float32)"
      ]
     },
     "execution_count": 14,
     "metadata": {},
     "output_type": "execute_result"
    }
   ],
   "source": [
    "np.unique(y_pred)"
   ]
  },
  {
   "cell_type": "code",
   "execution_count": 15,
   "metadata": {
    "colab": {
     "base_uri": "https://localhost:8080/"
    },
    "id": "CT5T7CtsF_aN",
    "outputId": "6d4d8cfb-859d-4783-bbcc-85fb13a7baaf"
   },
   "outputs": [
    {
     "data": {
      "text/plain": [
       "Date\n",
       "2011-05-05 14:15:00    1\n",
       "2013-05-20 14:15:00    1\n",
       "2013-10-25 02:45:00    1\n",
       "2014-11-18 01:15:00    1\n",
       "2012-02-10 22:15:00    1\n",
       "                      ..\n",
       "2012-05-07 18:30:00    0\n",
       "2012-06-07 21:15:00    1\n",
       "2012-08-20 00:15:00    1\n",
       "2013-11-05 01:15:00    1\n",
       "2014-04-17 13:00:00    1\n",
       "Name: Consumption, Length: 42077, dtype: int64"
      ]
     },
     "execution_count": 15,
     "metadata": {},
     "output_type": "execute_result"
    }
   ],
   "source": [
    "y_test"
   ]
  },
  {
   "cell_type": "code",
   "execution_count": 16,
   "metadata": {
    "colab": {
     "base_uri": "https://localhost:8080/"
    },
    "id": "8ZiZwc-D_rcf",
    "outputId": "8d642ab6-acc6-4a28-b79a-c181c867f379"
   },
   "outputs": [
    {
     "name": "stdout",
     "output_type": "stream",
     "text": [
      "(15568490,)\n"
     ]
    }
   ],
   "source": [
    "y_test_repeated = np.tile(y_test, 370)\n",
    "print(y_test_repeated.shape)"
   ]
  },
  {
   "cell_type": "code",
   "execution_count": 17,
   "metadata": {
    "colab": {
     "base_uri": "https://localhost:8080/"
    },
    "id": "qu2OO6NOGEgG",
    "outputId": "0c6ab62a-8749-4e06-804e-4c40dc69151b"
   },
   "outputs": [
    {
     "name": "stdout",
     "output_type": "stream",
     "text": [
      "Arrays are equal\n"
     ]
    }
   ],
   "source": [
    "if np.array_equal(y_test,y_test_repeated[:42077]):\n",
    "    print(\"Arrays are equal\")\n",
    "else:\n",
    "    print(\"Arrays are not equal\")\n"
   ]
  },
  {
   "cell_type": "code",
   "execution_count": 19,
   "metadata": {
    "colab": {
     "base_uri": "https://localhost:8080/"
    },
    "id": "2IhhilOiAWtS",
    "outputId": "c52ad756-f45b-4166-ef65-03a76dc12092"
   },
   "outputs": [
    {
     "name": "stdout",
     "output_type": "stream",
     "text": [
      "[[ 4816290        0]\n",
      " [10752200        0]]\n"
     ]
    }
   ],
   "source": [
    "from sklearn.metrics import confusion_matrix\n",
    "conf_matrix = confusion_matrix(y_test_repeated, y_pred_n)\n",
    "print(conf_matrix)"
   ]
  },
  {
   "cell_type": "code",
   "execution_count": 20,
   "metadata": {
    "colab": {
     "base_uri": "https://localhost:8080/",
     "height": 295
    },
    "id": "74aNQhcxA6K3",
    "outputId": "22a9ab5b-aafa-4a4f-fa5b-fafc7df69fb0"
   },
   "outputs": [
    {
     "data": {
      "image/png": "[encoded data removed]",
      "text/plain": [
       "<Figure size 432x288 with 1 Axes>"
      ]
     },
     "metadata": {
      "needs_background": "light"
     },
     "output_type": "display_data"
    }
   ],
   "source": [
    "from sklearn.metrics import roc_curve, auc\n",
    "\n",
    "# y_test and y_pred should be binary (0 or 1)\n",
    "fpr, tpr, thresholds = roc_curve(y_test_repeated, y_pred_n)\n",
    "roc_auc = auc(fpr, tpr)\n",
    "\n",
    "# plot the ROC curve\n",
    "plt.plot(fpr, tpr, label='ROC curve (area = %0.2f)' % roc_auc)\n",
    "plt.plot([0, 1], [0, 1], 'k--')\n",
    "plt.xlim([0.0, 1.0])\n",
    "plt.ylim([0.0, 1.05])\n",
    "plt.xlabel('False Positive Rate')\n",
    "plt.ylabel('True Positive Rate')\n",
    "plt.title('Receiver operating characteristic')\n",
    "plt.legend(loc=\"lower right\")\n",
    "plt.show()"
   ]
  },
  {
   "cell_type": "code",
   "execution_count": 21,
   "metadata": {
    "colab": {
     "base_uri": "https://localhost:8080/"
    },
    "id": "pacuTpI8FlTD",
    "outputId": "e3e92203-1393-419b-c282-7dee29d70824"
   },
   "outputs": [
    {
     "name": "stdout",
     "output_type": "stream",
     "text": [
      "0.23626892220568482\n"
     ]
    }
   ],
   "source": [
    "from sklearn.metrics import f1_score\n",
    "\n",
    "f1 = f1_score(y_test_repeated, y_pred_n, average='macro')\n",
    "print(f1)"
   ]
  },
  {
   "cell_type": "markdown",
   "metadata": {
    "id": "deLghyM3Ipxn"
   },
   "source": [
    "An accuracy of 0.90 on the test set means that 90% of the samples in the test set were classified correctly by the model. However, an ROC AUC of 0.5 indicates that the model's ability to distinguish between positive and negative samples is no better than random guessing.\n",
    "\n",
    "This could happen if the model is predicting probabilities that are too close to 0.5 for all samples, meaning that it is essentially guessing randomly. Alternatively, it could be the case that the model is biased towards predicting one class more than the other, resulting in a suboptimal ROC AUC score.\n",
    "\n",
    "If your F1 score is 0.23626892220568482, it means that the harmonic mean of your model's precision and recall is 0.236. It indicates that your model has a poor balance between precision and recall, and is not performing well overall. You may need to adjust your model's hyperparameters or consider a different model architecture to improve its performance."
   ]
  }
 ],
 "metadata": {
  "accelerator": "GPU",
  "colab": {
   "provenance": []
  },
  "gpuClass": "standard",
  "kernelspec": {
   "display_name": "Python 3 (ipykernel)",
   "language": "python",
   "name": "python3"
  },
  "language_info": {
   "codemirror_mode": {
    "name": "ipython",
    "version": 3
   },
   "file_extension": ".py",
   "mimetype": "text/x-python",
   "name": "python",
   "nbconvert_exporter": "python",
   "pygments_lexer": "ipython3",
   "version": "3.8.16"
  }
 },
 "nbformat": 4,
 "nbformat_minor": 1
}
