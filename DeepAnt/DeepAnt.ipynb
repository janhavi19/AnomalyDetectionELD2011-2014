{
 "cells": [
  {
   "cell_type": "markdown",
   "metadata": {},
   "source": [
    "### Importing files from library\n",
    "\n"
   ]
  },
  {
   "cell_type": "code",
   "execution_count": null,
   "metadata": {
    "id": "CwYi5ZOJY0FU"
   },
   "outputs": [],
   "source": [
    "%%capture\n",
    "\n",
    "!wget https://raw.githubusercontent.com/datacubeR/DeepAnt/master/data/TravelTime_451.csv -O data/TravelTime_451.csv\n",
    "!wget https://raw.githubusercontent.com/datacubeR/DeepAnt/master/data/DeepAnt.png -O data/DeepAnt.png\n",
    "!wget https://raw.githubusercontent.com/datacubeR/DeepAnt/master/deepant.py -O deepant.py\n",
    "!wget https://raw.githubusercontent.com/datacubeR/DeepAnt/master/utils.py -O utils.py\n",
    "!pip install pytorch-lightning\n",
    "!pip install torchinfo"
   ]
  },
  {
   "cell_type": "code",
   "execution_count": null,
   "metadata": {
    "colab": {
     "base_uri": "https://localhost:8080/"
    },
    "id": "SP0Nc3zdqGDT",
    "outputId": "ea72272c-c85e-4889-ad01-8cedfdbdfede"
   },
   "outputs": [
    {
     "name": "stdout",
     "output_type": "stream",
     "text": [
      "Mounted at /content/gdrive\n"
     ]
    }
   ],
   "source": [
    "from google.colab import drive\n",
    "drive.mount('/content/gdrive')"
   ]
  },
  {
   "cell_type": "code",
   "execution_count": null,
   "metadata": {
    "id": "P59Qz6i8sghd"
   },
   "outputs": [],
   "source": [
    "import pandas as pd\n",
    "import numpy as np\n",
    "from sklearn.model_selection import train_test_split\n",
    "from sklearn.preprocessing import MinMaxScaler\n",
    "from torch.utils.data import DataLoader, Dataset"
   ]
  },
  {
   "cell_type": "markdown",
   "metadata": {},
   "source": [
    "### Data loading\n"
   ]
  },
  {
   "cell_type": "code",
   "execution_count": null,
   "metadata": {
    "colab": {
     "base_uri": "https://localhost:8080/",
     "height": 692
    },
    "id": "uIbi2LTLsW1D",
    "outputId": "29e160d7-095d-4e32-d243-2e180eb37006"
   },
   "outputs": [
    {
     "data": {
      "text/html": [
       "\n",
       "  <div id=\"df-f06d1e76-5886-4ee6-aae3-13dd1d1da0fb\">\n",
       "    <div class=\"colab-df-container\">\n",
       "      <div>\n",
       "<style scoped>\n",
       "    .dataframe tbody tr th:only-of-type {\n",
       "        vertical-align: middle;\n",
       "    }\n",
       "\n",
       "    .dataframe tbody tr th {\n",
       "        vertical-align: top;\n",
       "    }\n",
       "\n",
       "    .dataframe thead th {\n",
       "        text-align: right;\n",
       "    }\n",
       "</style>\n",
       "<table border=\"1\" class=\"dataframe\">\n",
       "  <thead>\n",
       "    <tr style=\"text-align: right;\">\n",
       "      <th></th>\n",
       "      <th>MT_001</th>\n",
       "      <th>MT_002</th>\n",
       "      <th>MT_003</th>\n",
       "      <th>MT_004</th>\n",
       "      <th>MT_005</th>\n",
       "      <th>MT_006</th>\n",
       "      <th>MT_007</th>\n",
       "      <th>MT_008</th>\n",
       "      <th>MT_009</th>\n",
       "      <th>MT_010</th>\n",
       "      <th>...</th>\n",
       "      <th>MT_362</th>\n",
       "      <th>MT_363</th>\n",
       "      <th>MT_364</th>\n",
       "      <th>MT_365</th>\n",
       "      <th>MT_366</th>\n",
       "      <th>MT_367</th>\n",
       "      <th>MT_368</th>\n",
       "      <th>MT_369</th>\n",
       "      <th>MT_370</th>\n",
       "      <th>Consumption</th>\n",
       "    </tr>\n",
       "    <tr>\n",
       "      <th>Date</th>\n",
       "      <th></th>\n",
       "      <th></th>\n",
       "      <th></th>\n",
       "      <th></th>\n",
       "      <th></th>\n",
       "      <th></th>\n",
       "      <th></th>\n",
       "      <th></th>\n",
       "      <th></th>\n",
       "      <th></th>\n",
       "      <th></th>\n",
       "      <th></th>\n",
       "      <th></th>\n",
       "      <th></th>\n",
       "      <th></th>\n",
       "      <th></th>\n",
       "      <th></th>\n",
       "      <th></th>\n",
       "      <th></th>\n",
       "      <th></th>\n",
       "      <th></th>\n",
       "    </tr>\n",
       "  </thead>\n",
       "  <tbody>\n",
       "    <tr>\n",
       "      <th>2011-01-01 00:15:00</th>\n",
       "      <td>0.000000</td>\n",
       "      <td>0.000000</td>\n",
       "      <td>0.000000</td>\n",
       "      <td>0.000000</td>\n",
       "      <td>0.000000</td>\n",
       "      <td>0.000000</td>\n",
       "      <td>0.000000</td>\n",
       "      <td>0.000000</td>\n",
       "      <td>0.000000</td>\n",
       "      <td>0.000000</td>\n",
       "      <td>...</td>\n",
       "      <td>0.000000</td>\n",
       "      <td>0.000000</td>\n",
       "      <td>0.000000</td>\n",
       "      <td>0.000000</td>\n",
       "      <td>0.000000</td>\n",
       "      <td>0.000000</td>\n",
       "      <td>0.000000</td>\n",
       "      <td>0.000000</td>\n",
       "      <td>0.000000</td>\n",
       "      <td>0</td>\n",
       "    </tr>\n",
       "    <tr>\n",
       "      <th>2011-01-01 00:30:00</th>\n",
       "      <td>0.000000</td>\n",
       "      <td>0.000000</td>\n",
       "      <td>0.000000</td>\n",
       "      <td>0.000000</td>\n",
       "      <td>0.000000</td>\n",
       "      <td>0.000000</td>\n",
       "      <td>0.000000</td>\n",
       "      <td>0.000000</td>\n",
       "      <td>0.000000</td>\n",
       "      <td>0.000000</td>\n",
       "      <td>...</td>\n",
       "      <td>0.000000</td>\n",
       "      <td>0.000000</td>\n",
       "      <td>0.000000</td>\n",
       "      <td>0.000000</td>\n",
       "      <td>0.000000</td>\n",
       "      <td>0.000000</td>\n",
       "      <td>0.000000</td>\n",
       "      <td>0.000000</td>\n",
       "      <td>0.000000</td>\n",
       "      <td>0</td>\n",
       "    </tr>\n",
       "    <tr>\n",
       "      <th>2011-01-01 00:45:00</th>\n",
       "      <td>0.000000</td>\n",
       "      <td>0.000000</td>\n",
       "      <td>0.000000</td>\n",
       "      <td>0.000000</td>\n",
       "      <td>0.000000</td>\n",
       "      <td>0.000000</td>\n",
       "      <td>0.000000</td>\n",
       "      <td>0.000000</td>\n",
       "      <td>0.000000</td>\n",
       "      <td>0.000000</td>\n",
       "      <td>...</td>\n",
       "      <td>0.000000</td>\n",
       "      <td>0.000000</td>\n",
       "      <td>0.000000</td>\n",
       "      <td>0.000000</td>\n",
       "      <td>0.000000</td>\n",
       "      <td>0.000000</td>\n",
       "      <td>0.000000</td>\n",
       "      <td>0.000000</td>\n",
       "      <td>0.000000</td>\n",
       "      <td>0</td>\n",
       "    </tr>\n",
       "    <tr>\n",
       "      <th>2011-01-01 01:00:00</th>\n",
       "      <td>0.000000</td>\n",
       "      <td>0.000000</td>\n",
       "      <td>0.000000</td>\n",
       "      <td>0.000000</td>\n",
       "      <td>0.000000</td>\n",
       "      <td>0.000000</td>\n",
       "      <td>0.000000</td>\n",
       "      <td>0.000000</td>\n",
       "      <td>0.000000</td>\n",
       "      <td>0.000000</td>\n",
       "      <td>...</td>\n",
       "      <td>0.000000</td>\n",
       "      <td>0.000000</td>\n",
       "      <td>0.000000</td>\n",
       "      <td>0.000000</td>\n",
       "      <td>0.000000</td>\n",
       "      <td>0.000000</td>\n",
       "      <td>0.000000</td>\n",
       "      <td>0.000000</td>\n",
       "      <td>0.000000</td>\n",
       "      <td>0</td>\n",
       "    </tr>\n",
       "    <tr>\n",
       "      <th>2011-01-01 01:15:00</th>\n",
       "      <td>0.000000</td>\n",
       "      <td>0.000000</td>\n",
       "      <td>0.000000</td>\n",
       "      <td>0.000000</td>\n",
       "      <td>0.000000</td>\n",
       "      <td>0.000000</td>\n",
       "      <td>0.000000</td>\n",
       "      <td>0.000000</td>\n",
       "      <td>0.000000</td>\n",
       "      <td>0.000000</td>\n",
       "      <td>...</td>\n",
       "      <td>0.000000</td>\n",
       "      <td>0.000000</td>\n",
       "      <td>0.000000</td>\n",
       "      <td>0.000000</td>\n",
       "      <td>0.000000</td>\n",
       "      <td>0.000000</td>\n",
       "      <td>0.000000</td>\n",
       "      <td>0.000000</td>\n",
       "      <td>0.000000</td>\n",
       "      <td>0</td>\n",
       "    </tr>\n",
       "    <tr>\n",
       "      <th>...</th>\n",
       "      <td>...</td>\n",
       "      <td>...</td>\n",
       "      <td>...</td>\n",
       "      <td>...</td>\n",
       "      <td>...</td>\n",
       "      <td>...</td>\n",
       "      <td>...</td>\n",
       "      <td>...</td>\n",
       "      <td>...</td>\n",
       "      <td>...</td>\n",
       "      <td>...</td>\n",
       "      <td>...</td>\n",
       "      <td>...</td>\n",
       "      <td>...</td>\n",
       "      <td>...</td>\n",
       "      <td>...</td>\n",
       "      <td>...</td>\n",
       "      <td>...</td>\n",
       "      <td>...</td>\n",
       "      <td>...</td>\n",
       "      <td>...</td>\n",
       "    </tr>\n",
       "    <tr>\n",
       "      <th>2014-12-31 23:00:00</th>\n",
       "      <td>1.937882</td>\n",
       "      <td>27.115731</td>\n",
       "      <td>1.585617</td>\n",
       "      <td>155.263258</td>\n",
       "      <td>68.167038</td>\n",
       "      <td>263.700509</td>\n",
       "      <td>5.024925</td>\n",
       "      <td>363.593198</td>\n",
       "      <td>55.127590</td>\n",
       "      <td>38.270338</td>\n",
       "      <td>...</td>\n",
       "      <td>43292.629385</td>\n",
       "      <td>2844.800579</td>\n",
       "      <td>4123.912354</td>\n",
       "      <td>138.483075</td>\n",
       "      <td>5.603357</td>\n",
       "      <td>500.623179</td>\n",
       "      <td>136.130412</td>\n",
       "      <td>790.281806</td>\n",
       "      <td>15547.424484</td>\n",
       "      <td>1</td>\n",
       "    </tr>\n",
       "    <tr>\n",
       "      <th>2014-12-31 23:15:00</th>\n",
       "      <td>1.981888</td>\n",
       "      <td>26.923944</td>\n",
       "      <td>1.602215</td>\n",
       "      <td>155.226250</td>\n",
       "      <td>67.874771</td>\n",
       "      <td>266.622308</td>\n",
       "      <td>4.992699</td>\n",
       "      <td>360.330564</td>\n",
       "      <td>53.932498</td>\n",
       "      <td>38.299165</td>\n",
       "      <td>...</td>\n",
       "      <td>42599.507983</td>\n",
       "      <td>2894.784576</td>\n",
       "      <td>4115.998551</td>\n",
       "      <td>133.152841</td>\n",
       "      <td>5.591115</td>\n",
       "      <td>504.128417</td>\n",
       "      <td>137.430207</td>\n",
       "      <td>780.245404</td>\n",
       "      <td>15299.547641</td>\n",
       "      <td>1</td>\n",
       "    </tr>\n",
       "    <tr>\n",
       "      <th>2014-12-31 23:30:00</th>\n",
       "      <td>2.029872</td>\n",
       "      <td>26.783984</td>\n",
       "      <td>1.620246</td>\n",
       "      <td>155.026071</td>\n",
       "      <td>67.428167</td>\n",
       "      <td>269.406435</td>\n",
       "      <td>4.996814</td>\n",
       "      <td>357.207358</td>\n",
       "      <td>53.161740</td>\n",
       "      <td>38.403461</td>\n",
       "      <td>...</td>\n",
       "      <td>41799.811247</td>\n",
       "      <td>2928.852599</td>\n",
       "      <td>4095.012055</td>\n",
       "      <td>127.640601</td>\n",
       "      <td>5.541062</td>\n",
       "      <td>508.176658</td>\n",
       "      <td>138.880319</td>\n",
       "      <td>770.151620</td>\n",
       "      <td>15051.396744</td>\n",
       "      <td>1</td>\n",
       "    </tr>\n",
       "    <tr>\n",
       "      <th>2014-12-31 23:45:00</th>\n",
       "      <td>2.082358</td>\n",
       "      <td>26.702758</td>\n",
       "      <td>1.639526</td>\n",
       "      <td>154.681621</td>\n",
       "      <td>66.857300</td>\n",
       "      <td>272.008426</td>\n",
       "      <td>5.041920</td>\n",
       "      <td>354.362390</td>\n",
       "      <td>52.870970</td>\n",
       "      <td>38.619773</td>\n",
       "      <td>...</td>\n",
       "      <td>40950.702567</td>\n",
       "      <td>2947.556653</td>\n",
       "      <td>4063.907863</td>\n",
       "      <td>122.241302</td>\n",
       "      <td>5.460326</td>\n",
       "      <td>512.594319</td>\n",
       "      <td>140.309935</td>\n",
       "      <td>760.240095</td>\n",
       "      <td>14803.535962</td>\n",
       "      <td>1</td>\n",
       "    </tr>\n",
       "    <tr>\n",
       "      <th>2015-01-01 00:00:00</th>\n",
       "      <td>2.139600</td>\n",
       "      <td>26.684089</td>\n",
       "      <td>1.659962</td>\n",
       "      <td>154.229908</td>\n",
       "      <td>66.205367</td>\n",
       "      <td>274.393763</td>\n",
       "      <td>5.131747</td>\n",
       "      <td>351.916196</td>\n",
       "      <td>53.097689</td>\n",
       "      <td>38.986525</td>\n",
       "      <td>...</td>\n",
       "      <td>40109.228660</td>\n",
       "      <td>2952.063906</td>\n",
       "      <td>4025.779011</td>\n",
       "      <td>117.233157</td>\n",
       "      <td>5.358887</td>\n",
       "      <td>517.167642</td>\n",
       "      <td>141.546015</td>\n",
       "      <td>750.732425</td>\n",
       "      <td>14555.723981</td>\n",
       "      <td>1</td>\n",
       "    </tr>\n",
       "  </tbody>\n",
       "</table>\n",
       "<p>140256 rows × 371 columns</p>\n",
       "</div>\n",
       "      <button class=\"colab-df-convert\" onclick=\"convertToInteractive('df-f06d1e76-5886-4ee6-aae3-13dd1d1da0fb')\"\n",
       "              title=\"Convert this dataframe to an interactive table.\"\n",
       "              style=\"display:none;\">\n",
       "        \n",
       "  <svg xmlns=\"http://www.w3.org/2000/svg\" height=\"24px\"viewBox=\"0 0 24 24\"\n",
       "       width=\"24px\">\n",
       "    <path d=\"M0 0h24v24H0V0z\" fill=\"none\"/>\n",
       "    <path d=\"M18.56 5.44l.94 2.06.94-2.06 2.06-.94-2.06-.94-.94-2.06-.94 2.06-2.06.94zm-11 1L8.5 8.5l.94-2.06 2.06-.94-2.06-.94L8.5 2.5l-.94 2.06-2.06.94zm10 10l.94 2.06.94-2.06 2.06-.94-2.06-.94-.94-2.06-.94 2.06-2.06.94z\"/><path d=\"M17.41 7.96l-1.37-1.37c-.4-.4-.92-.59-1.43-.59-.52 0-1.04.2-1.43.59L10.3 9.45l-7.72 7.72c-.78.78-.78 2.05 0 2.83L4 21.41c.39.39.9.59 1.41.59.51 0 1.02-.2 1.41-.59l7.78-7.78 2.81-2.81c.8-.78.8-2.07 0-2.86zM5.41 20L4 18.59l7.72-7.72 1.47 1.35L5.41 20z\"/>\n",
       "  </svg>\n",
       "      </button>\n",
       "      \n",
       "  <style>\n",
       "    .colab-df-container {\n",
       "      display:flex;\n",
       "      flex-wrap:wrap;\n",
       "      gap: 12px;\n",
       "    }\n",
       "\n",
       "    .colab-df-convert {\n",
       "      background-color: #E8F0FE;\n",
       "      border: none;\n",
       "      border-radius: 50%;\n",
       "      cursor: pointer;\n",
       "      display: none;\n",
       "      fill: #1967D2;\n",
       "      height: 32px;\n",
       "      padding: 0 0 0 0;\n",
       "      width: 32px;\n",
       "    }\n",
       "\n",
       "    .colab-df-convert:hover {\n",
       "      background-color: #E2EBFA;\n",
       "      box-shadow: 0px 1px 2px rgba(60, 64, 67, 0.3), 0px 1px 3px 1px rgba(60, 64, 67, 0.15);\n",
       "      fill: #174EA6;\n",
       "    }\n",
       "\n",
       "    [theme=dark] .colab-df-convert {\n",
       "      background-color: #3B4455;\n",
       "      fill: #D2E3FC;\n",
       "    }\n",
       "\n",
       "    [theme=dark] .colab-df-convert:hover {\n",
       "      background-color: #434B5C;\n",
       "      box-shadow: 0px 1px 3px 1px rgba(0, 0, 0, 0.15);\n",
       "      filter: drop-shadow(0px 1px 2px rgba(0, 0, 0, 0.3));\n",
       "      fill: #FFFFFF;\n",
       "    }\n",
       "  </style>\n",
       "\n",
       "      <script>\n",
       "        const buttonEl =\n",
       "          document.querySelector('#df-f06d1e76-5886-4ee6-aae3-13dd1d1da0fb button.colab-df-convert');\n",
       "        buttonEl.style.display =\n",
       "          google.colab.kernel.accessAllowed ? 'block' : 'none';\n",
       "\n",
       "        async function convertToInteractive(key) {\n",
       "          const element = document.querySelector('#df-f06d1e76-5886-4ee6-aae3-13dd1d1da0fb');\n",
       "          const dataTable =\n",
       "            await google.colab.kernel.invokeFunction('convertToInteractive',\n",
       "                                                     [key], {});\n",
       "          if (!dataTable) return;\n",
       "\n",
       "          const docLinkHtml = 'Like what you see? Visit the ' +\n",
       "            '<a target=\"_blank\" href=https://colab.research.google.com/notebooks/data_table.ipynb>data table notebook</a>'\n",
       "            + ' to learn more about interactive tables.';\n",
       "          element.innerHTML = '';\n",
       "          dataTable['output_type'] = 'display_data';\n",
       "          await google.colab.output.renderOutput(dataTable, element);\n",
       "          const docLink = document.createElement('div');\n",
       "          docLink.innerHTML = docLinkHtml;\n",
       "          element.appendChild(docLink);\n",
       "        }\n",
       "      </script>\n",
       "    </div>\n",
       "  </div>\n",
       "  "
      ],
      "text/plain": [
       "                       MT_001     MT_002    MT_003      MT_004     MT_005  \\\n",
       "Date                                                                        \n",
       "2011-01-01 00:15:00  0.000000   0.000000  0.000000    0.000000   0.000000   \n",
       "2011-01-01 00:30:00  0.000000   0.000000  0.000000    0.000000   0.000000   \n",
       "2011-01-01 00:45:00  0.000000   0.000000  0.000000    0.000000   0.000000   \n",
       "2011-01-01 01:00:00  0.000000   0.000000  0.000000    0.000000   0.000000   \n",
       "2011-01-01 01:15:00  0.000000   0.000000  0.000000    0.000000   0.000000   \n",
       "...                       ...        ...       ...         ...        ...   \n",
       "2014-12-31 23:00:00  1.937882  27.115731  1.585617  155.263258  68.167038   \n",
       "2014-12-31 23:15:00  1.981888  26.923944  1.602215  155.226250  67.874771   \n",
       "2014-12-31 23:30:00  2.029872  26.783984  1.620246  155.026071  67.428167   \n",
       "2014-12-31 23:45:00  2.082358  26.702758  1.639526  154.681621  66.857300   \n",
       "2015-01-01 00:00:00  2.139600  26.684089  1.659962  154.229908  66.205367   \n",
       "\n",
       "                         MT_006    MT_007      MT_008     MT_009     MT_010  \\\n",
       "Date                                                                          \n",
       "2011-01-01 00:15:00    0.000000  0.000000    0.000000   0.000000   0.000000   \n",
       "2011-01-01 00:30:00    0.000000  0.000000    0.000000   0.000000   0.000000   \n",
       "2011-01-01 00:45:00    0.000000  0.000000    0.000000   0.000000   0.000000   \n",
       "2011-01-01 01:00:00    0.000000  0.000000    0.000000   0.000000   0.000000   \n",
       "2011-01-01 01:15:00    0.000000  0.000000    0.000000   0.000000   0.000000   \n",
       "...                         ...       ...         ...        ...        ...   \n",
       "2014-12-31 23:00:00  263.700509  5.024925  363.593198  55.127590  38.270338   \n",
       "2014-12-31 23:15:00  266.622308  4.992699  360.330564  53.932498  38.299165   \n",
       "2014-12-31 23:30:00  269.406435  4.996814  357.207358  53.161740  38.403461   \n",
       "2014-12-31 23:45:00  272.008426  5.041920  354.362390  52.870970  38.619773   \n",
       "2015-01-01 00:00:00  274.393763  5.131747  351.916196  53.097689  38.986525   \n",
       "\n",
       "                     ...        MT_362       MT_363       MT_364      MT_365  \\\n",
       "Date                 ...                                                       \n",
       "2011-01-01 00:15:00  ...      0.000000     0.000000     0.000000    0.000000   \n",
       "2011-01-01 00:30:00  ...      0.000000     0.000000     0.000000    0.000000   \n",
       "2011-01-01 00:45:00  ...      0.000000     0.000000     0.000000    0.000000   \n",
       "2011-01-01 01:00:00  ...      0.000000     0.000000     0.000000    0.000000   \n",
       "2011-01-01 01:15:00  ...      0.000000     0.000000     0.000000    0.000000   \n",
       "...                  ...           ...          ...          ...         ...   \n",
       "2014-12-31 23:00:00  ...  43292.629385  2844.800579  4123.912354  138.483075   \n",
       "2014-12-31 23:15:00  ...  42599.507983  2894.784576  4115.998551  133.152841   \n",
       "2014-12-31 23:30:00  ...  41799.811247  2928.852599  4095.012055  127.640601   \n",
       "2014-12-31 23:45:00  ...  40950.702567  2947.556653  4063.907863  122.241302   \n",
       "2015-01-01 00:00:00  ...  40109.228660  2952.063906  4025.779011  117.233157   \n",
       "\n",
       "                       MT_366      MT_367      MT_368      MT_369  \\\n",
       "Date                                                                \n",
       "2011-01-01 00:15:00  0.000000    0.000000    0.000000    0.000000   \n",
       "2011-01-01 00:30:00  0.000000    0.000000    0.000000    0.000000   \n",
       "2011-01-01 00:45:00  0.000000    0.000000    0.000000    0.000000   \n",
       "2011-01-01 01:00:00  0.000000    0.000000    0.000000    0.000000   \n",
       "2011-01-01 01:15:00  0.000000    0.000000    0.000000    0.000000   \n",
       "...                       ...         ...         ...         ...   \n",
       "2014-12-31 23:00:00  5.603357  500.623179  136.130412  790.281806   \n",
       "2014-12-31 23:15:00  5.591115  504.128417  137.430207  780.245404   \n",
       "2014-12-31 23:30:00  5.541062  508.176658  138.880319  770.151620   \n",
       "2014-12-31 23:45:00  5.460326  512.594319  140.309935  760.240095   \n",
       "2015-01-01 00:00:00  5.358887  517.167642  141.546015  750.732425   \n",
       "\n",
       "                           MT_370  Consumption  \n",
       "Date                                            \n",
       "2011-01-01 00:15:00      0.000000            0  \n",
       "2011-01-01 00:30:00      0.000000            0  \n",
       "2011-01-01 00:45:00      0.000000            0  \n",
       "2011-01-01 01:00:00      0.000000            0  \n",
       "2011-01-01 01:15:00      0.000000            0  \n",
       "...                           ...          ...  \n",
       "2014-12-31 23:00:00  15547.424484            1  \n",
       "2014-12-31 23:15:00  15299.547641            1  \n",
       "2014-12-31 23:30:00  15051.396744            1  \n",
       "2014-12-31 23:45:00  14803.535962            1  \n",
       "2015-01-01 00:00:00  14555.723981            1  \n",
       "\n",
       "[140256 rows x 371 columns]"
      ]
     },
     "execution_count": 4,
     "metadata": {},
     "output_type": "execute_result"
    }
   ],
   "source": [
    "data = pd.read_pickle('/content/gdrive/MyDrive/eld_filtered_labled.pkl')\n",
    "data = data.drop('day_of_week',axis=1)\n",
    "data"
   ]
  },
  {
   "cell_type": "code",
   "execution_count": null,
   "metadata": {
    "colab": {
     "base_uri": "https://localhost:8080/"
    },
    "id": "NcW568iLYs9k",
    "outputId": "48a2cf26-cae5-4963-e86a-15b5778d2aa4"
   },
   "outputs": [
    {
     "name": "stderr",
     "output_type": "stream",
     "text": [
      "<ipython-input-28-2f6bc50f3e9c>:2: FutureWarning: 'base' in .resample() and in Grouper() is deprecated.\n",
      "The new arguments that you should use are 'offset' or 'origin'.\n",
      "\n",
      ">>> df.resample(freq=\"3s\", base=2)\n",
      "\n",
      "becomes:\n",
      "\n",
      ">>> df.resample(freq=\"3s\", offset=\"2s\")\n",
      "\n",
      "  data_M300= data_M300.resample(rule='24H', closed='left', label='left', base=17).sum()\n"
     ]
    }
   ],
   "source": [
    "data_M300 = data[['MT_300']]\n",
    "data_M300= data_M300.resample(rule='24H', closed='left', label='left', base=17).sum()\n",
    "data_M300['value'] = data_M300['MT_300']\n",
    "data_M300 = data_M300.drop('MT_300',axis =1)\n"
   ]
  },
  {
   "cell_type": "code",
   "execution_count": null,
   "metadata": {
    "colab": {
     "base_uri": "https://localhost:8080/"
    },
    "id": "lwR7LvKsAjGF",
    "outputId": "9cc40f25-a1d4-4ffa-e284-df9fe24d2e3f"
   },
   "outputs": [
    {
     "name": "stderr",
     "output_type": "stream",
     "text": [
      "INFO:lightning_fabric.utilities.seed:Global seed set to 42\n"
     ]
    },
    {
     "name": "stdout",
     "output_type": "stream",
     "text": [
      "Everything is Set\n"
     ]
    }
   ],
   "source": [
    "import pandas as pd\n",
    "import pytorch_lightning as pl\n",
    "import torch\n",
    "from pytorch_lightning.callbacks import ModelCheckpoint\n",
    "from torchinfo import summary\n",
    "\n",
    "from deepant import AnomalyDetector, DataModule, TrafficDataset, DeepAnt\n",
    "\n",
    "from utils import plot_predictions, loss_plot, ts_plot\n",
    "\n",
    "pl.seed_everything(42, workers=True)\n",
    "\n",
    "\n",
    "if not torch.cuda.is_available():\n",
    "    print('Please Activate GPU Accelerator if available')\n",
    "else:\n",
    "    print('Everything is Set')"
   ]
  },
  {
   "cell_type": "code",
   "execution_count": null,
   "metadata": {
    "colab": {
     "base_uri": "https://localhost:8080/",
     "height": 422
    },
    "id": "0M20kEMzZtc4",
    "outputId": "e67041d5-ad87-4abd-a2b6-85be527e31c6"
   },
   "outputs": [
    {
     "data": {
      "text/plain": [
       "<matplotlib.axes._subplots.AxesSubplot at 0x7fddfe734b50>"
      ]
     },
     "execution_count": 30,
     "metadata": {},
     "output_type": "execute_result"
    },
    {
     "data": {
      "image/png": "[encoded data removed]",
      "text/plain": [
       "<Figure size 1080x432 with 1 Axes>"
      ]
     },
     "metadata": {
      "needs_background": "light"
     },
     "output_type": "display_data"
    }
   ],
   "source": [
    "data_M300.plot(figsize = (15, 6), title = 'Electrical load consumption MT_300', legend = False)"
   ]
  },
  {
   "cell_type": "markdown",
   "metadata": {},
   "source": [
    "### Data preprocessing\n",
    "\n"
   ]
  },
  {
   "cell_type": "code",
   "execution_count": null,
   "metadata": {
    "id": "XpGrda9HcUnN"
   },
   "outputs": [],
   "source": [
    "class ElectricalDataset(Dataset):\n",
    "    def __init__(self, df, seq_len):\n",
    "        self.df = df\n",
    "        self.seq_len = seq_len\n",
    "        self.sequence, self.labels, self.timestamp = self.create_sequence(df, seq_len)\n",
    "\n",
    "    def create_sequence(self, df, seq_len):\n",
    "        sc = MinMaxScaler()\n",
    "        index = df.index.to_numpy()\n",
    "        ts = sc.fit_transform(df.value.to_numpy().reshape(-1, 1))\n",
    "        \n",
    "        sequence = []\n",
    "        label = []\n",
    "        timestamp = []\n",
    "        for i in range(len(ts) - seq_len):\n",
    "            sequence.append(ts[i:i+seq_len])\n",
    "            label.append(ts[i+seq_len])\n",
    "            timestamp.append(index[i+seq_len])\n",
    "            \n",
    "            \n",
    "        return np.array(sequence), np.array(label), np.array(timestamp)\n",
    "    \n",
    "    def __len__(self):\n",
    "        return len(self.df) - self.seq_len\n",
    "    \n",
    "    def __getitem__(self, idx):\n",
    "        return (torch.tensor(self.sequence[idx], dtype = torch.float).permute(1, 0), \n",
    "                torch.tensor(self.labels[idx], dtype = torch.float))"
   ]
  },
  {
   "cell_type": "code",
   "execution_count": null,
   "metadata": {
    "colab": {
     "base_uri": "https://localhost:8080/"
    },
    "id": "gb0trat6aFL8",
    "outputId": "fee4f94b-81b5-4e5e-f11c-0e7b8040b809"
   },
   "outputs": [
    {
     "data": {
      "text/plain": [
       "(torch.Size([1, 10]), torch.Size([1]), 1452)"
      ]
     },
     "execution_count": 32,
     "metadata": {},
     "output_type": "execute_result"
    }
   ],
   "source": [
    "import torch\n",
    "\n",
    "SEQ_LEN = 10\n",
    "dataset = ElectricalDataset(data_M300, SEQ_LEN)\n",
    "target_idx = dataset.timestamp # Timestamps to detect where the Anomaly Happens\n",
    "X, y = dataset[0]\n",
    "X.shape, y.shape, len(dataset) # Checking Sizes are compatible..."
   ]
  },
  {
   "cell_type": "markdown",
   "metadata": {},
   "source": [
    "### Loading model from library"
   ]
  },
  {
   "cell_type": "code",
   "execution_count": null,
   "metadata": {
    "colab": {
     "base_uri": "https://localhost:8080/"
    },
    "id": "alkh72XQbL_T",
    "outputId": "5863b32b-8866-44e3-c2f2-bd1f3a5d7533"
   },
   "outputs": [
    {
     "data": {
      "text/plain": [
       "torch.Size([32, 1])"
      ]
     },
     "execution_count": 33,
     "metadata": {},
     "output_type": "execute_result"
    }
   ],
   "source": [
    "model = DeepAnt(SEQ_LEN, 1)\n",
    "sample = torch.randn(32,1,10)\n",
    "\n",
    "model(sample).shape"
   ]
  },
  {
   "cell_type": "code",
   "execution_count": null,
   "metadata": {
    "colab": {
     "base_uri": "https://localhost:8080/"
    },
    "id": "GbhTinDBeg-s",
    "outputId": "b03131cd-e94d-423d-fdbc-788a92034363"
   },
   "outputs": [
    {
     "data": {
      "text/plain": [
       "=================================================================\n",
       "Layer (type:depth-idx)                   Param #\n",
       "=================================================================\n",
       "DeepAnt                                  --\n",
       "├─Sequential: 1-1                        --\n",
       "│    └─Conv1d: 2-1                       128\n",
       "│    └─ReLU: 2-2                         --\n",
       "│    └─MaxPool1d: 2-3                    --\n",
       "├─Sequential: 1-2                        --\n",
       "│    └─Conv1d: 2-4                       3,104\n",
       "│    └─ReLU: 2-5                         --\n",
       "│    └─MaxPool1d: 2-6                    --\n",
       "├─Flatten: 1-3                           --\n",
       "├─Sequential: 1-4                        --\n",
       "│    └─Linear: 2-7                       1,320\n",
       "│    └─ReLU: 2-8                         --\n",
       "│    └─Dropout: 2-9                      --\n",
       "├─Linear: 1-5                            41\n",
       "=================================================================\n",
       "Total params: 4,593\n",
       "Trainable params: 4,593\n",
       "Non-trainable params: 0\n",
       "================================================================="
      ]
     },
     "execution_count": 34,
     "metadata": {},
     "output_type": "execute_result"
    }
   ],
   "source": [
    "model = DeepAnt(SEQ_LEN, 1)\n",
    "anomaly_detector = AnomalyDetector(model)\n",
    "dm = DataModule(data_M300, SEQ_LEN)\n",
    "mc = ModelCheckpoint(\n",
    "    dirpath = 'checkpoints',\n",
    "    save_last = True,\n",
    "    save_top_k = 1,\n",
    "    verbose = True,\n",
    "    monitor = 'train_loss', \n",
    "    mode = 'min'\n",
    "    )\n",
    "\n",
    "mc.CHECKPOINT_NAME_LAST = f'DeepAnt-best-checkpoint'\n",
    "summary(model)"
   ]
  },
  {
   "cell_type": "markdown",
   "metadata": {},
   "source": [
    "### Training"
   ]
  },
  {
   "cell_type": "code",
   "execution_count": null,
   "metadata": {
    "colab": {
     "base_uri": "https://localhost:8080/",
     "height": 972,
     "referenced_widgets": [
      "d6b77ccf0d2c4e8c972351bccf003236",
      "f2a0a943735447b799adfdadf5f03bd0",
      "e2103bda22674cae83460fc3d20a8204",
      "21141b77dfab49c6a809e58f5fc07927",
      "954c69633812450a86877d6efc1aa56e",
      "b29ec80423b34cc98ffb9af5b9e2f33c",
      "2eb1b9c4f9bb4b97a68535552edb30c9",
      "acdd292daa9c4e06850b3f9ec963ae9f",
      "3ebaf1dc320a4e0ab734b3224b8ac901",
      "58e0ab9cc7a64636990e3b77ff31a136",
      "ae551e8eaece489694585d2a5e659c58"
     ]
    },
    "id": "3ZDVygYAeklW",
    "outputId": "ea7cd3ac-8399-4d15-c817-d165cdca74e7"
   },
   "outputs": [
    {
     "name": "stderr",
     "output_type": "stream",
     "text": [
      "INFO:pytorch_lightning.utilities.rank_zero:GPU available: True (cuda), used: True\n",
      "INFO:pytorch_lightning.utilities.rank_zero:TPU available: False, using: 0 TPU cores\n",
      "INFO:pytorch_lightning.utilities.rank_zero:IPU available: False, using: 0 IPUs\n",
      "INFO:pytorch_lightning.utilities.rank_zero:HPU available: False, using: 0 HPUs\n",
      "WARNING:pytorch_lightning.loggers.tensorboard:Missing logger folder: /content/lightning_logs\n",
      "INFO:pytorch_lightning.accelerators.cuda:LOCAL_RANK: 0 - CUDA_VISIBLE_DEVICES: [0]\n",
      "INFO:pytorch_lightning.callbacks.model_summary:\n",
      "  | Name      | Type    | Params\n",
      "--------------------------------------\n",
      "0 | model     | DeepAnt | 4.6 K \n",
      "1 | criterion | L1Loss  | 0     \n",
      "--------------------------------------\n",
      "4.6 K     Trainable params\n",
      "0         Non-trainable params\n",
      "4.6 K     Total params\n",
      "0.018     Total estimated model params size (MB)\n",
      "/usr/local/lib/python3.8/dist-packages/torch/utils/data/dataloader.py:554: UserWarning: This DataLoader will create 10 worker processes in total. Our suggested max number of worker in current system is 2, which is smaller than what this DataLoader is going to create. Please be aware that excessive worker creation might get DataLoader running slow or even freeze, lower the worker number to avoid potential slowness/freeze if necessary.\n",
      "  warnings.warn(_create_warning_msg(\n",
      "/usr/local/lib/python3.8/dist-packages/pytorch_lightning/trainer/trainer.py:1600: PossibleUserWarning: The number of training batches (46) is smaller than the logging interval Trainer(log_every_n_steps=50). Set a lower value for log_every_n_steps if you want to see logs for the training epoch.\n",
      "  rank_zero_warn(\n"
     ]
    },
    {
     "data": {
      "application/vnd.jupyter.widget-view+json": {
       "model_id": "d6b77ccf0d2c4e8c972351bccf003236",
       "version_major": 2,
       "version_minor": 0
      },
      "text/plain": [
       "Training: 0it [00:00, ?it/s]"
      ]
     },
     "metadata": {},
     "output_type": "display_data"
    },
    {
     "name": "stderr",
     "output_type": "stream",
     "text": [
      "INFO:pytorch_lightning.utilities.rank_zero:Epoch 0, global step 46: 'train_loss' reached 0.78507 (best 0.78507), saving model to '/content/checkpoints/epoch=0-step=46.ckpt' as top 1\n",
      "INFO:pytorch_lightning.utilities.rank_zero:Epoch 1, global step 92: 'train_loss' reached 0.76394 (best 0.76394), saving model to '/content/checkpoints/epoch=1-step=92.ckpt' as top 1\n",
      "INFO:pytorch_lightning.utilities.rank_zero:Epoch 2, global step 138: 'train_loss' reached 0.75260 (best 0.75260), saving model to '/content/checkpoints/epoch=2-step=138.ckpt' as top 1\n",
      "INFO:pytorch_lightning.utilities.rank_zero:Epoch 3, global step 184: 'train_loss' was not in top 1\n",
      "INFO:pytorch_lightning.utilities.rank_zero:Epoch 4, global step 230: 'train_loss' reached 0.73937 (best 0.73937), saving model to '/content/checkpoints/epoch=4-step=230.ckpt' as top 1\n",
      "INFO:pytorch_lightning.utilities.rank_zero:Epoch 5, global step 276: 'train_loss' reached 0.72359 (best 0.72359), saving model to '/content/checkpoints/epoch=5-step=276.ckpt' as top 1\n",
      "INFO:pytorch_lightning.utilities.rank_zero:Epoch 6, global step 322: 'train_loss' reached 0.70990 (best 0.70990), saving model to '/content/checkpoints/epoch=6-step=322.ckpt' as top 1\n",
      "INFO:pytorch_lightning.utilities.rank_zero:Epoch 7, global step 368: 'train_loss' reached 0.69328 (best 0.69328), saving model to '/content/checkpoints/epoch=7-step=368.ckpt' as top 1\n",
      "INFO:pytorch_lightning.utilities.rank_zero:Epoch 8, global step 414: 'train_loss' reached 0.68813 (best 0.68813), saving model to '/content/checkpoints/epoch=8-step=414.ckpt' as top 1\n",
      "INFO:pytorch_lightning.utilities.rank_zero:Epoch 9, global step 460: 'train_loss' was not in top 1\n",
      "INFO:pytorch_lightning.utilities.rank_zero:Epoch 10, global step 506: 'train_loss' reached 0.65078 (best 0.65078), saving model to '/content/checkpoints/epoch=10-step=506.ckpt' as top 1\n",
      "INFO:pytorch_lightning.utilities.rank_zero:Epoch 11, global step 552: 'train_loss' was not in top 1\n",
      "INFO:pytorch_lightning.utilities.rank_zero:Epoch 12, global step 598: 'train_loss' reached 0.57544 (best 0.57544), saving model to '/content/checkpoints/epoch=12-step=598.ckpt' as top 1\n",
      "INFO:pytorch_lightning.utilities.rank_zero:Epoch 13, global step 644: 'train_loss' was not in top 1\n",
      "INFO:pytorch_lightning.utilities.rank_zero:Epoch 14, global step 690: 'train_loss' reached 0.57348 (best 0.57348), saving model to '/content/checkpoints/epoch=14-step=690.ckpt' as top 1\n",
      "INFO:pytorch_lightning.utilities.rank_zero:Epoch 15, global step 736: 'train_loss' was not in top 1\n",
      "INFO:pytorch_lightning.utilities.rank_zero:Epoch 16, global step 782: 'train_loss' reached 0.54200 (best 0.54200), saving model to '/content/checkpoints/epoch=16-step=782.ckpt' as top 1\n",
      "INFO:pytorch_lightning.utilities.rank_zero:Epoch 17, global step 828: 'train_loss' was not in top 1\n",
      "INFO:pytorch_lightning.utilities.rank_zero:Epoch 18, global step 874: 'train_loss' reached 0.51085 (best 0.51085), saving model to '/content/checkpoints/epoch=18-step=874.ckpt' as top 1\n",
      "INFO:pytorch_lightning.utilities.rank_zero:Epoch 19, global step 920: 'train_loss' reached 0.47077 (best 0.47077), saving model to '/content/checkpoints/epoch=19-step=920.ckpt' as top 1\n",
      "INFO:pytorch_lightning.utilities.rank_zero:Epoch 20, global step 966: 'train_loss' reached 0.44625 (best 0.44625), saving model to '/content/checkpoints/epoch=20-step=966.ckpt' as top 1\n",
      "INFO:pytorch_lightning.utilities.rank_zero:Epoch 21, global step 1012: 'train_loss' was not in top 1\n",
      "INFO:pytorch_lightning.utilities.rank_zero:Epoch 22, global step 1058: 'train_loss' reached 0.38998 (best 0.38998), saving model to '/content/checkpoints/epoch=22-step=1058.ckpt' as top 1\n",
      "INFO:pytorch_lightning.utilities.rank_zero:Epoch 23, global step 1104: 'train_loss' was not in top 1\n",
      "INFO:pytorch_lightning.utilities.rank_zero:Epoch 24, global step 1150: 'train_loss' reached 0.31125 (best 0.31125), saving model to '/content/checkpoints/epoch=24-step=1150.ckpt' as top 1\n",
      "INFO:pytorch_lightning.utilities.rank_zero:Epoch 25, global step 1196: 'train_loss' was not in top 1\n",
      "INFO:pytorch_lightning.utilities.rank_zero:Epoch 26, global step 1242: 'train_loss' was not in top 1\n",
      "INFO:pytorch_lightning.utilities.rank_zero:Epoch 27, global step 1288: 'train_loss' reached 0.24816 (best 0.24816), saving model to '/content/checkpoints/epoch=27-step=1288.ckpt' as top 1\n",
      "INFO:pytorch_lightning.utilities.rank_zero:Epoch 28, global step 1334: 'train_loss' reached 0.17070 (best 0.17070), saving model to '/content/checkpoints/epoch=28-step=1334.ckpt' as top 1\n",
      "INFO:pytorch_lightning.utilities.rank_zero:Epoch 29, global step 1380: 'train_loss' was not in top 1\n",
      "INFO:pytorch_lightning.utilities.rank_zero:`Trainer.fit` stopped: `max_epochs=30` reached.\n"
     ]
    }
   ],
   "source": [
    "#loading the trainer from library\n",
    "trainer = pl.Trainer(max_epochs=30,\n",
    "                    accelerator=\"gpu\",\n",
    "                    devices=1, \n",
    "                    callbacks=[mc], \n",
    "                    #progress_bar_refresh_rate=30, \n",
    "                    #fast_dev_run=True,\n",
    "                    #overfit_batches=1\n",
    "                    )\n",
    "trainer.fit(anomaly_detector, dm)"
   ]
  },
  {
   "cell_type": "code",
   "execution_count": null,
   "metadata": {
    "id": "wY3FPRU-hA7r"
   },
   "outputs": [],
   "source": [
    "anomaly_detector = AnomalyDetector.load_from_checkpoint('checkpoints/DeepAnt-best-checkpoint.ckpt',\n",
    "                                model = model)"
   ]
  },
  {
   "cell_type": "code",
   "execution_count": null,
   "metadata": {
    "colab": {
     "base_uri": "https://localhost:8080/",
     "height": 122,
     "referenced_widgets": [
      "8f28e6826ead4dcda8ded791c31f5c5b",
      "7bef4cceabfd49a2a61a4efc6094bfec",
      "3c37ec51495646bdb9ce0e9807263662",
      "6a177795b5a14902a451e8b0c3b6781e",
      "f18b5bedf57c41619f55817f253efa94",
      "b683cbd56fe842808281f12ad374a27e",
      "d4dc9099cb1242789593d0e75c15284d",
      "f51ad8990716443eaefc4450f43373cf",
      "afe975add3404b4596d8ae549c67212c",
      "db6cd51e625d49029e4ad542c5dac4bd",
      "13f04d140989404997eefb013e57f422"
     ]
    },
    "id": "-D-BVd0UiErB",
    "outputId": "a99ad5a2-db8f-4d9a-b576-f9abfcdab85d"
   },
   "outputs": [
    {
     "name": "stderr",
     "output_type": "stream",
     "text": [
      "INFO:pytorch_lightning.accelerators.cuda:LOCAL_RANK: 0 - CUDA_VISIBLE_DEVICES: [0]\n",
      "/usr/local/lib/python3.8/dist-packages/torch/utils/data/dataloader.py:554: UserWarning: This DataLoader will create 10 worker processes in total. Our suggested max number of worker in current system is 2, which is smaller than what this DataLoader is going to create. Please be aware that excessive worker creation might get DataLoader running slow or even freeze, lower the worker number to avoid potential slowness/freeze if necessary.\n",
      "  warnings.warn(_create_warning_msg(\n"
     ]
    },
    {
     "data": {
      "application/vnd.jupyter.widget-view+json": {
       "model_id": "8f28e6826ead4dcda8ded791c31f5c5b",
       "version_major": 2,
       "version_minor": 0
      },
      "text/plain": [
       "Predicting: 46it [00:00, ?it/s]"
      ]
     },
     "metadata": {},
     "output_type": "display_data"
    }
   ],
   "source": [
    "output = trainer.predict(anomaly_detector, dm)\n",
    "preds_losses = pd.Series(torch.tensor([item[1] for item in output]).numpy(), index = target_idx)"
   ]
  },
  {
   "cell_type": "markdown",
   "metadata": {},
   "source": [
    "### Loss distribution to determine threshold for anomaly detection"
   ]
  },
  {
   "cell_type": "code",
   "execution_count": null,
   "metadata": {
    "colab": {
     "base_uri": "https://localhost:8080/",
     "height": 599
    },
    "id": "YLqk4TCCh6dr",
    "outputId": "db74ddaf-c801-4a5d-b300-fded82b65006"
   },
   "outputs": [
    {
     "data": {
      "image/png": "[encoded data removed]",
      "text/plain": [
       "<Figure size 1152x576 with 1 Axes>"
      ]
     },
     "metadata": {
      "needs_background": "light"
     },
     "output_type": "display_data"
    }
   ],
   "source": [
    "THRESHOLD = 0.35    \n",
    "plot_predictions(preds_losses, THRESHOLD)"
   ]
  },
  {
   "cell_type": "markdown",
   "metadata": {},
   "source": [
    "### Plotting detected anomalies in data"
   ]
  },
  {
   "cell_type": "code",
   "execution_count": null,
   "metadata": {
    "colab": {
     "base_uri": "https://localhost:8080/",
     "height": 758
    },
    "id": "OKUiTrA8h-9A",
    "outputId": "8e635ec6-6d92-4746-da2e-d6b50e11cce1"
   },
   "outputs": [
    {
     "data": {
      "image/png": "[encoded data removed]",
      "text/plain": [
       "<Figure size 1080x576 with 1 Axes>"
      ]
     },
     "metadata": {
      "needs_background": "light"
     },
     "output_type": "display_data"
    },
    {
     "name": "stdout",
     "output_type": "stream",
     "text": [
      "Anomalies Detected: \n"
     ]
    },
    {
     "data": {
      "text/plain": [
       "2011-01-21 17:00:00    0.350862\n",
       "2011-01-23 17:00:00    0.365409\n",
       "2011-01-25 17:00:00    0.356676\n",
       "2011-02-16 17:00:00    0.353449\n",
       "2011-05-24 17:00:00    0.422989\n",
       "2011-06-20 17:00:00    0.385604\n",
       "2011-06-21 17:00:00    0.409536\n",
       "2011-06-26 17:00:00    0.367551\n",
       "2011-07-26 17:00:00    0.358273\n",
       "2011-07-28 17:00:00    0.357440\n",
       "2011-08-12 17:00:00    0.354636\n",
       "2011-08-13 17:00:00    0.364151\n",
       "2011-08-16 17:00:00    0.367580\n",
       "2014-12-31 17:00:00    0.412911\n",
       "dtype: float32"
      ]
     },
     "execution_count": 51,
     "metadata": {},
     "output_type": "execute_result"
    }
   ],
   "source": [
    "loss_plot(preds_losses, THRESHOLD)\n",
    "\n",
    "print('Anomalies Detected: ')\n",
    "preds_losses.loc[lambda x: x > THRESHOLD]"
   ]
  },
  {
   "cell_type": "code",
   "execution_count": null,
   "metadata": {
    "colab": {
     "base_uri": "https://localhost:8080/",
     "height": 488
    },
    "id": "eLMyVO2nibNf",
    "outputId": "5eaecbe8-54ad-4c67-9fa4-a7225187a89b"
   },
   "outputs": [
    {
     "data": {
      "image/png": "[encoded data removed]",
      "text/plain": [
       "<Figure size 1440x576 with 1 Axes>"
      ]
     },
     "metadata": {
      "needs_background": "light"
     },
     "output_type": "display_data"
    }
   ],
   "source": [
    "ts_plot(data_M300, preds_losses, THRESHOLD)"
   ]
  },
  {
   "cell_type": "code",
   "execution_count": null,
   "metadata": {
    "id": "mywzayTii2EV"
   },
   "outputs": [],
   "source": []
  }
 ],
 "metadata": {
  "accelerator": "GPU",
  "colab": {
   "provenance": []
  },
  "gpuClass": "standard",
  "kernelspec": {
   "display_name": "Python 3 (ipykernel)",
   "language": "python",
   "name": "python3"
  },
  "language_info": {
   "codemirror_mode": {
    "name": "ipython",
    "version": 3
   },
   "file_extension": ".py",
   "mimetype": "text/x-python",
   "name": "python",
   "nbconvert_exporter": "python",
   "pygments_lexer": "ipython3",
   "version": "3.8.16"
  },
  "widgets": {
   "application/vnd.jupyter.widget-state+json": {
    "13f04d140989404997eefb013e57f422": {
     "model_module": "@jupyter-widgets/controls",
     "model_module_version": "1.5.0",
     "model_name": "DescriptionStyleModel",
     "state": {
      "_model_module": "@jupyter-widgets/controls",
      "_model_module_version": "1.5.0",
      "_model_name": "DescriptionStyleModel",
      "_view_count": null,
      "_view_module": "@jupyter-widgets/base",
      "_view_module_version": "1.2.0",
      "_view_name": "StyleView",
      "description_width": ""
     }
    },
    "21141b77dfab49c6a809e58f5fc07927": {
     "model_module": "@jupyter-widgets/controls",
     "model_module_version": "1.5.0",
     "model_name": "HTMLModel",
     "state": {
      "_dom_classes": [],
      "_model_module": "@jupyter-widgets/controls",
      "_model_module_version": "1.5.0",
      "_model_name": "HTMLModel",
      "_view_count": null,
      "_view_module": "@jupyter-widgets/controls",
      "_view_module_version": "1.5.0",
      "_view_name": "HTMLView",
      "description": "",
      "description_tooltip": null,
      "layout": "IPY_MODEL_58e0ab9cc7a64636990e3b77ff31a136",
      "placeholder": "​",
      "style": "IPY_MODEL_ae551e8eaece489694585d2a5e659c58",
      "value": " 46/46 [00:01&lt;00:00, 35.30it/s, loss=0.205, v_num=0, train_loss=0.243]"
     }
    },
    "2eb1b9c4f9bb4b97a68535552edb30c9": {
     "model_module": "@jupyter-widgets/controls",
     "model_module_version": "1.5.0",
     "model_name": "DescriptionStyleModel",
     "state": {
      "_model_module": "@jupyter-widgets/controls",
      "_model_module_version": "1.5.0",
      "_model_name": "DescriptionStyleModel",
      "_view_count": null,
      "_view_module": "@jupyter-widgets/base",
      "_view_module_version": "1.2.0",
      "_view_name": "StyleView",
      "description_width": ""
     }
    },
    "3c37ec51495646bdb9ce0e9807263662": {
     "model_module": "@jupyter-widgets/controls",
     "model_module_version": "1.5.0",
     "model_name": "FloatProgressModel",
     "state": {
      "_dom_classes": [],
      "_model_module": "@jupyter-widgets/controls",
      "_model_module_version": "1.5.0",
      "_model_name": "FloatProgressModel",
      "_view_count": null,
      "_view_module": "@jupyter-widgets/controls",
      "_view_module_version": "1.5.0",
      "_view_name": "ProgressView",
      "bar_style": "success",
      "description": "",
      "description_tooltip": null,
      "layout": "IPY_MODEL_f51ad8990716443eaefc4450f43373cf",
      "max": 1452,
      "min": 0,
      "orientation": "horizontal",
      "style": "IPY_MODEL_afe975add3404b4596d8ae549c67212c",
      "value": 1452
     }
    },
    "3ebaf1dc320a4e0ab734b3224b8ac901": {
     "model_module": "@jupyter-widgets/controls",
     "model_module_version": "1.5.0",
     "model_name": "ProgressStyleModel",
     "state": {
      "_model_module": "@jupyter-widgets/controls",
      "_model_module_version": "1.5.0",
      "_model_name": "ProgressStyleModel",
      "_view_count": null,
      "_view_module": "@jupyter-widgets/base",
      "_view_module_version": "1.2.0",
      "_view_name": "StyleView",
      "bar_color": null,
      "description_width": ""
     }
    },
    "58e0ab9cc7a64636990e3b77ff31a136": {
     "model_module": "@jupyter-widgets/base",
     "model_module_version": "1.2.0",
     "model_name": "LayoutModel",
     "state": {
      "_model_module": "@jupyter-widgets/base",
      "_model_module_version": "1.2.0",
      "_model_name": "LayoutModel",
      "_view_count": null,
      "_view_module": "@jupyter-widgets/base",
      "_view_module_version": "1.2.0",
      "_view_name": "LayoutView",
      "align_content": null,
      "align_items": null,
      "align_self": null,
      "border": null,
      "bottom": null,
      "display": null,
      "flex": null,
      "flex_flow": null,
      "grid_area": null,
      "grid_auto_columns": null,
      "grid_auto_flow": null,
      "grid_auto_rows": null,
      "grid_column": null,
      "grid_gap": null,
      "grid_row": null,
      "grid_template_areas": null,
      "grid_template_columns": null,
      "grid_template_rows": null,
      "height": null,
      "justify_content": null,
      "justify_items": null,
      "left": null,
      "margin": null,
      "max_height": null,
      "max_width": null,
      "min_height": null,
      "min_width": null,
      "object_fit": null,
      "object_position": null,
      "order": null,
      "overflow": null,
      "overflow_x": null,
      "overflow_y": null,
      "padding": null,
      "right": null,
      "top": null,
      "visibility": null,
      "width": null
     }
    },
    "6a177795b5a14902a451e8b0c3b6781e": {
     "model_module": "@jupyter-widgets/controls",
     "model_module_version": "1.5.0",
     "model_name": "HTMLModel",
     "state": {
      "_dom_classes": [],
      "_model_module": "@jupyter-widgets/controls",
      "_model_module_version": "1.5.0",
      "_model_name": "HTMLModel",
      "_view_count": null,
      "_view_module": "@jupyter-widgets/controls",
      "_view_module_version": "1.5.0",
      "_view_name": "HTMLView",
      "description": "",
      "description_tooltip": null,
      "layout": "IPY_MODEL_db6cd51e625d49029e4ad542c5dac4bd",
      "placeholder": "​",
      "style": "IPY_MODEL_13f04d140989404997eefb013e57f422",
      "value": " 1452/1452 [00:09&lt;00:00, 157.13it/s]"
     }
    },
    "7bef4cceabfd49a2a61a4efc6094bfec": {
     "model_module": "@jupyter-widgets/controls",
     "model_module_version": "1.5.0",
     "model_name": "HTMLModel",
     "state": {
      "_dom_classes": [],
      "_model_module": "@jupyter-widgets/controls",
      "_model_module_version": "1.5.0",
      "_model_name": "HTMLModel",
      "_view_count": null,
      "_view_module": "@jupyter-widgets/controls",
      "_view_module_version": "1.5.0",
      "_view_name": "HTMLView",
      "description": "",
      "description_tooltip": null,
      "layout": "IPY_MODEL_b683cbd56fe842808281f12ad374a27e",
      "placeholder": "​",
      "style": "IPY_MODEL_d4dc9099cb1242789593d0e75c15284d",
      "value": "Predicting DataLoader 0: 100%"
     }
    },
    "8f28e6826ead4dcda8ded791c31f5c5b": {
     "model_module": "@jupyter-widgets/controls",
     "model_module_version": "1.5.0",
     "model_name": "HBoxModel",
     "state": {
      "_dom_classes": [],
      "_model_module": "@jupyter-widgets/controls",
      "_model_module_version": "1.5.0",
      "_model_name": "HBoxModel",
      "_view_count": null,
      "_view_module": "@jupyter-widgets/controls",
      "_view_module_version": "1.5.0",
      "_view_name": "HBoxView",
      "box_style": "",
      "children": [
       "IPY_MODEL_7bef4cceabfd49a2a61a4efc6094bfec",
       "IPY_MODEL_3c37ec51495646bdb9ce0e9807263662",
       "IPY_MODEL_6a177795b5a14902a451e8b0c3b6781e"
      ],
      "layout": "IPY_MODEL_f18b5bedf57c41619f55817f253efa94"
     }
    },
    "954c69633812450a86877d6efc1aa56e": {
     "model_module": "@jupyter-widgets/base",
     "model_module_version": "1.2.0",
     "model_name": "LayoutModel",
     "state": {
      "_model_module": "@jupyter-widgets/base",
      "_model_module_version": "1.2.0",
      "_model_name": "LayoutModel",
      "_view_count": null,
      "_view_module": "@jupyter-widgets/base",
      "_view_module_version": "1.2.0",
      "_view_name": "LayoutView",
      "align_content": null,
      "align_items": null,
      "align_self": null,
      "border": null,
      "bottom": null,
      "display": "inline-flex",
      "flex": null,
      "flex_flow": "row wrap",
      "grid_area": null,
      "grid_auto_columns": null,
      "grid_auto_flow": null,
      "grid_auto_rows": null,
      "grid_column": null,
      "grid_gap": null,
      "grid_row": null,
      "grid_template_areas": null,
      "grid_template_columns": null,
      "grid_template_rows": null,
      "height": null,
      "justify_content": null,
      "justify_items": null,
      "left": null,
      "margin": null,
      "max_height": null,
      "max_width": null,
      "min_height": null,
      "min_width": null,
      "object_fit": null,
      "object_position": null,
      "order": null,
      "overflow": null,
      "overflow_x": null,
      "overflow_y": null,
      "padding": null,
      "right": null,
      "top": null,
      "visibility": null,
      "width": "100%"
     }
    },
    "acdd292daa9c4e06850b3f9ec963ae9f": {
     "model_module": "@jupyter-widgets/base",
     "model_module_version": "1.2.0",
     "model_name": "LayoutModel",
     "state": {
      "_model_module": "@jupyter-widgets/base",
      "_model_module_version": "1.2.0",
      "_model_name": "LayoutModel",
      "_view_count": null,
      "_view_module": "@jupyter-widgets/base",
      "_view_module_version": "1.2.0",
      "_view_name": "LayoutView",
      "align_content": null,
      "align_items": null,
      "align_self": null,
      "border": null,
      "bottom": null,
      "display": null,
      "flex": "2",
      "flex_flow": null,
      "grid_area": null,
      "grid_auto_columns": null,
      "grid_auto_flow": null,
      "grid_auto_rows": null,
      "grid_column": null,
      "grid_gap": null,
      "grid_row": null,
      "grid_template_areas": null,
      "grid_template_columns": null,
      "grid_template_rows": null,
      "height": null,
      "justify_content": null,
      "justify_items": null,
      "left": null,
      "margin": null,
      "max_height": null,
      "max_width": null,
      "min_height": null,
      "min_width": null,
      "object_fit": null,
      "object_position": null,
      "order": null,
      "overflow": null,
      "overflow_x": null,
      "overflow_y": null,
      "padding": null,
      "right": null,
      "top": null,
      "visibility": null,
      "width": null
     }
    },
    "ae551e8eaece489694585d2a5e659c58": {
     "model_module": "@jupyter-widgets/controls",
     "model_module_version": "1.5.0",
     "model_name": "DescriptionStyleModel",
     "state": {
      "_model_module": "@jupyter-widgets/controls",
      "_model_module_version": "1.5.0",
      "_model_name": "DescriptionStyleModel",
      "_view_count": null,
      "_view_module": "@jupyter-widgets/base",
      "_view_module_version": "1.2.0",
      "_view_name": "StyleView",
      "description_width": ""
     }
    },
    "afe975add3404b4596d8ae549c67212c": {
     "model_module": "@jupyter-widgets/controls",
     "model_module_version": "1.5.0",
     "model_name": "ProgressStyleModel",
     "state": {
      "_model_module": "@jupyter-widgets/controls",
      "_model_module_version": "1.5.0",
      "_model_name": "ProgressStyleModel",
      "_view_count": null,
      "_view_module": "@jupyter-widgets/base",
      "_view_module_version": "1.2.0",
      "_view_name": "StyleView",
      "bar_color": null,
      "description_width": ""
     }
    },
    "b29ec80423b34cc98ffb9af5b9e2f33c": {
     "model_module": "@jupyter-widgets/base",
     "model_module_version": "1.2.0",
     "model_name": "LayoutModel",
     "state": {
      "_model_module": "@jupyter-widgets/base",
      "_model_module_version": "1.2.0",
      "_model_name": "LayoutModel",
      "_view_count": null,
      "_view_module": "@jupyter-widgets/base",
      "_view_module_version": "1.2.0",
      "_view_name": "LayoutView",
      "align_content": null,
      "align_items": null,
      "align_self": null,
      "border": null,
      "bottom": null,
      "display": null,
      "flex": null,
      "flex_flow": null,
      "grid_area": null,
      "grid_auto_columns": null,
      "grid_auto_flow": null,
      "grid_auto_rows": null,
      "grid_column": null,
      "grid_gap": null,
      "grid_row": null,
      "grid_template_areas": null,
      "grid_template_columns": null,
      "grid_template_rows": null,
      "height": null,
      "justify_content": null,
      "justify_items": null,
      "left": null,
      "margin": null,
      "max_height": null,
      "max_width": null,
      "min_height": null,
      "min_width": null,
      "object_fit": null,
      "object_position": null,
      "order": null,
      "overflow": null,
      "overflow_x": null,
      "overflow_y": null,
      "padding": null,
      "right": null,
      "top": null,
      "visibility": null,
      "width": null
     }
    },
    "b683cbd56fe842808281f12ad374a27e": {
     "model_module": "@jupyter-widgets/base",
     "model_module_version": "1.2.0",
     "model_name": "LayoutModel",
     "state": {
      "_model_module": "@jupyter-widgets/base",
      "_model_module_version": "1.2.0",
      "_model_name": "LayoutModel",
      "_view_count": null,
      "_view_module": "@jupyter-widgets/base",
      "_view_module_version": "1.2.0",
      "_view_name": "LayoutView",
      "align_content": null,
      "align_items": null,
      "align_self": null,
      "border": null,
      "bottom": null,
      "display": null,
      "flex": null,
      "flex_flow": null,
      "grid_area": null,
      "grid_auto_columns": null,
      "grid_auto_flow": null,
      "grid_auto_rows": null,
      "grid_column": null,
      "grid_gap": null,
      "grid_row": null,
      "grid_template_areas": null,
      "grid_template_columns": null,
      "grid_template_rows": null,
      "height": null,
      "justify_content": null,
      "justify_items": null,
      "left": null,
      "margin": null,
      "max_height": null,
      "max_width": null,
      "min_height": null,
      "min_width": null,
      "object_fit": null,
      "object_position": null,
      "order": null,
      "overflow": null,
      "overflow_x": null,
      "overflow_y": null,
      "padding": null,
      "right": null,
      "top": null,
      "visibility": null,
      "width": null
     }
    },
    "d4dc9099cb1242789593d0e75c15284d": {
     "model_module": "@jupyter-widgets/controls",
     "model_module_version": "1.5.0",
     "model_name": "DescriptionStyleModel",
     "state": {
      "_model_module": "@jupyter-widgets/controls",
      "_model_module_version": "1.5.0",
      "_model_name": "DescriptionStyleModel",
      "_view_count": null,
      "_view_module": "@jupyter-widgets/base",
      "_view_module_version": "1.2.0",
      "_view_name": "StyleView",
      "description_width": ""
     }
    },
    "d6b77ccf0d2c4e8c972351bccf003236": {
     "model_module": "@jupyter-widgets/controls",
     "model_module_version": "1.5.0",
     "model_name": "HBoxModel",
     "state": {
      "_dom_classes": [],
      "_model_module": "@jupyter-widgets/controls",
      "_model_module_version": "1.5.0",
      "_model_name": "HBoxModel",
      "_view_count": null,
      "_view_module": "@jupyter-widgets/controls",
      "_view_module_version": "1.5.0",
      "_view_name": "HBoxView",
      "box_style": "",
      "children": [
       "IPY_MODEL_f2a0a943735447b799adfdadf5f03bd0",
       "IPY_MODEL_e2103bda22674cae83460fc3d20a8204",
       "IPY_MODEL_21141b77dfab49c6a809e58f5fc07927"
      ],
      "layout": "IPY_MODEL_954c69633812450a86877d6efc1aa56e"
     }
    },
    "db6cd51e625d49029e4ad542c5dac4bd": {
     "model_module": "@jupyter-widgets/base",
     "model_module_version": "1.2.0",
     "model_name": "LayoutModel",
     "state": {
      "_model_module": "@jupyter-widgets/base",
      "_model_module_version": "1.2.0",
      "_model_name": "LayoutModel",
      "_view_count": null,
      "_view_module": "@jupyter-widgets/base",
      "_view_module_version": "1.2.0",
      "_view_name": "LayoutView",
      "align_content": null,
      "align_items": null,
      "align_self": null,
      "border": null,
      "bottom": null,
      "display": null,
      "flex": null,
      "flex_flow": null,
      "grid_area": null,
      "grid_auto_columns": null,
      "grid_auto_flow": null,
      "grid_auto_rows": null,
      "grid_column": null,
      "grid_gap": null,
      "grid_row": null,
      "grid_template_areas": null,
      "grid_template_columns": null,
      "grid_template_rows": null,
      "height": null,
      "justify_content": null,
      "justify_items": null,
      "left": null,
      "margin": null,
      "max_height": null,
      "max_width": null,
      "min_height": null,
      "min_width": null,
      "object_fit": null,
      "object_position": null,
      "order": null,
      "overflow": null,
      "overflow_x": null,
      "overflow_y": null,
      "padding": null,
      "right": null,
      "top": null,
      "visibility": null,
      "width": null
     }
    },
    "e2103bda22674cae83460fc3d20a8204": {
     "model_module": "@jupyter-widgets/controls",
     "model_module_version": "1.5.0",
     "model_name": "FloatProgressModel",
     "state": {
      "_dom_classes": [],
      "_model_module": "@jupyter-widgets/controls",
      "_model_module_version": "1.5.0",
      "_model_name": "FloatProgressModel",
      "_view_count": null,
      "_view_module": "@jupyter-widgets/controls",
      "_view_module_version": "1.5.0",
      "_view_name": "ProgressView",
      "bar_style": "success",
      "description": "",
      "description_tooltip": null,
      "layout": "IPY_MODEL_acdd292daa9c4e06850b3f9ec963ae9f",
      "max": 46,
      "min": 0,
      "orientation": "horizontal",
      "style": "IPY_MODEL_3ebaf1dc320a4e0ab734b3224b8ac901",
      "value": 46
     }
    },
    "f18b5bedf57c41619f55817f253efa94": {
     "model_module": "@jupyter-widgets/base",
     "model_module_version": "1.2.0",
     "model_name": "LayoutModel",
     "state": {
      "_model_module": "@jupyter-widgets/base",
      "_model_module_version": "1.2.0",
      "_model_name": "LayoutModel",
      "_view_count": null,
      "_view_module": "@jupyter-widgets/base",
      "_view_module_version": "1.2.0",
      "_view_name": "LayoutView",
      "align_content": null,
      "align_items": null,
      "align_self": null,
      "border": null,
      "bottom": null,
      "display": "inline-flex",
      "flex": null,
      "flex_flow": "row wrap",
      "grid_area": null,
      "grid_auto_columns": null,
      "grid_auto_flow": null,
      "grid_auto_rows": null,
      "grid_column": null,
      "grid_gap": null,
      "grid_row": null,
      "grid_template_areas": null,
      "grid_template_columns": null,
      "grid_template_rows": null,
      "height": null,
      "justify_content": null,
      "justify_items": null,
      "left": null,
      "margin": null,
      "max_height": null,
      "max_width": null,
      "min_height": null,
      "min_width": null,
      "object_fit": null,
      "object_position": null,
      "order": null,
      "overflow": null,
      "overflow_x": null,
      "overflow_y": null,
      "padding": null,
      "right": null,
      "top": null,
      "visibility": null,
      "width": "100%"
     }
    },
    "f2a0a943735447b799adfdadf5f03bd0": {
     "model_module": "@jupyter-widgets/controls",
     "model_module_version": "1.5.0",
     "model_name": "HTMLModel",
     "state": {
      "_dom_classes": [],
      "_model_module": "@jupyter-widgets/controls",
      "_model_module_version": "1.5.0",
      "_model_name": "HTMLModel",
      "_view_count": null,
      "_view_module": "@jupyter-widgets/controls",
      "_view_module_version": "1.5.0",
      "_view_name": "HTMLView",
      "description": "",
      "description_tooltip": null,
      "layout": "IPY_MODEL_b29ec80423b34cc98ffb9af5b9e2f33c",
      "placeholder": "​",
      "style": "IPY_MODEL_2eb1b9c4f9bb4b97a68535552edb30c9",
      "value": "Epoch 29: 100%"
     }
    },
    "f51ad8990716443eaefc4450f43373cf": {
     "model_module": "@jupyter-widgets/base",
     "model_module_version": "1.2.0",
     "model_name": "LayoutModel",
     "state": {
      "_model_module": "@jupyter-widgets/base",
      "_model_module_version": "1.2.0",
      "_model_name": "LayoutModel",
      "_view_count": null,
      "_view_module": "@jupyter-widgets/base",
      "_view_module_version": "1.2.0",
      "_view_name": "LayoutView",
      "align_content": null,
      "align_items": null,
      "align_self": null,
      "border": null,
      "bottom": null,
      "display": null,
      "flex": "2",
      "flex_flow": null,
      "grid_area": null,
      "grid_auto_columns": null,
      "grid_auto_flow": null,
      "grid_auto_rows": null,
      "grid_column": null,
      "grid_gap": null,
      "grid_row": null,
      "grid_template_areas": null,
      "grid_template_columns": null,
      "grid_template_rows": null,
      "height": null,
      "justify_content": null,
      "justify_items": null,
      "left": null,
      "margin": null,
      "max_height": null,
      "max_width": null,
      "min_height": null,
      "min_width": null,
      "object_fit": null,
      "object_position": null,
      "order": null,
      "overflow": null,
      "overflow_x": null,
      "overflow_y": null,
      "padding": null,
      "right": null,
      "top": null,
      "visibility": null,
      "width": null
     }
    }
   }
  }
 },
 "nbformat": 4,
 "nbformat_minor": 1
}
